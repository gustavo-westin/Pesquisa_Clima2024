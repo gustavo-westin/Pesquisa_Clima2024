{
 "cells": [
  {
   "cell_type": "markdown",
   "metadata": {},
   "source": [
    "## Set básico de configurações"
   ]
  },
  {
   "cell_type": "code",
   "execution_count": 1,
   "metadata": {},
   "outputs": [],
   "source": [
    "import pandas as pd\n",
    "import numpy as np\n",
    "import random\n",
    "import sklearn.decomposition\n",
    "import sklearn.feature_extraction\n",
    "import matplotlib.pyplot as plt\n",
    "import seaborn as sns"
   ]
  },
  {
   "cell_type": "code",
   "execution_count": 2,
   "metadata": {},
   "outputs": [
    {
     "data": {
      "text/html": [
       "<div>\n",
       "<style scoped>\n",
       "    .dataframe tbody tr th:only-of-type {\n",
       "        vertical-align: middle;\n",
       "    }\n",
       "\n",
       "    .dataframe tbody tr th {\n",
       "        vertical-align: top;\n",
       "    }\n",
       "\n",
       "    .dataframe thead th {\n",
       "        text-align: right;\n",
       "    }\n",
       "</style>\n",
       "<table border=\"1\" class=\"dataframe\">\n",
       "  <thead>\n",
       "    <tr style=\"text-align: right;\">\n",
       "      <th></th>\n",
       "      <th>Idade</th>\n",
       "      <th>Gênero</th>\n",
       "      <th>Categoria do cargo</th>\n",
       "      <th>Sigla da sua unidade</th>\n",
       "      <th>Comunicado Sabesp</th>\n",
       "      <th>Email matinal com as principais informações divulgadas no dia anterior no Workplace</th>\n",
       "      <th>Página da Unidade no Portal Sabesp</th>\n",
       "      <th>Portal Corporativo Sabesp</th>\n",
       "      <th>TV Corporativa</th>\n",
       "      <th>Workplace</th>\n",
       "      <th>...</th>\n",
       "      <th>Minha chefia utilizar a ferramenta</th>\n",
       "      <th>Ter acesso a ferramentas de reunião, gestão do conhecimento ou compartilhamento de arquivos</th>\n",
       "      <th>Ter informação organizada de acordo com a estrutura corporativa, como no portal</th>\n",
       "      <th>Se mais colegas usassem</th>\n",
       "      <th>Pensando no seu líder imediato, avalie seu grau de satisfação em relação ao repasse das informações de caráter interno (informações corporativas, RH, institucionais, projetos e programas etc.)</th>\n",
       "      <th>De forma geral, qual é o seu nível de satisfação com a Comunicação Interna Sabesp em uma escala de 1 a 5, onde 1 é muito insatisfeito e 5 é muito satisfeito.</th>\n",
       "      <th>Comente sua resposta</th>\n",
       "      <th>Como você avalia a quantidade de informação disponibilizada nos veículos de Comunicação Interna (Conexão Sabesp no Workplace, Portal Corporativo, TV Corporativa, Comunicados Sabesp)?</th>\n",
       "      <th>Outro (especifique).1</th>\n",
       "      <th>Você tem alguma sugestão específica para melhorar a comunicação interna nos próximos meses?</th>\n",
       "    </tr>\n",
       "  </thead>\n",
       "  <tbody>\n",
       "    <tr>\n",
       "      <th>0</th>\n",
       "      <td>Entre 41 e 50 anos</td>\n",
       "      <td>Feminino</td>\n",
       "      <td>Universitário</td>\n",
       "      <td>M</td>\n",
       "      <td>4</td>\n",
       "      <td>6</td>\n",
       "      <td>3</td>\n",
       "      <td>5</td>\n",
       "      <td>1</td>\n",
       "      <td>2</td>\n",
       "      <td>...</td>\n",
       "      <td>NaN</td>\n",
       "      <td>NaN</td>\n",
       "      <td>NaN</td>\n",
       "      <td>NaN</td>\n",
       "      <td>Excelente</td>\n",
       "      <td>3.0</td>\n",
       "      <td>NaN</td>\n",
       "      <td>Pouca. Não fico sabendo de tudo que gostaria.</td>\n",
       "      <td>NaN</td>\n",
       "      <td>NaN</td>\n",
       "    </tr>\n",
       "    <tr>\n",
       "      <th>1</th>\n",
       "      <td>Entre 51 e 60 anos</td>\n",
       "      <td>Masculino</td>\n",
       "      <td>Operacional</td>\n",
       "      <td>osmi</td>\n",
       "      <td>4</td>\n",
       "      <td>1</td>\n",
       "      <td>6</td>\n",
       "      <td>3</td>\n",
       "      <td>2</td>\n",
       "      <td>5</td>\n",
       "      <td>...</td>\n",
       "      <td>NaN</td>\n",
       "      <td>Ter acesso a ferramentas de reunião, gestão do...</td>\n",
       "      <td>NaN</td>\n",
       "      <td>NaN</td>\n",
       "      <td>Excelente</td>\n",
       "      <td>5.0</td>\n",
       "      <td>NaN</td>\n",
       "      <td>Ideal</td>\n",
       "      <td>NaN</td>\n",
       "      <td>NaN</td>\n",
       "    </tr>\n",
       "    <tr>\n",
       "      <th>2</th>\n",
       "      <td>Entre 41 e 50 anos</td>\n",
       "      <td>Masculino</td>\n",
       "      <td>Operacional</td>\n",
       "      <td>OTDN</td>\n",
       "      <td>3</td>\n",
       "      <td>4</td>\n",
       "      <td>5</td>\n",
       "      <td>2</td>\n",
       "      <td>1</td>\n",
       "      <td>6</td>\n",
       "      <td>...</td>\n",
       "      <td>NaN</td>\n",
       "      <td>NaN</td>\n",
       "      <td>NaN</td>\n",
       "      <td>NaN</td>\n",
       "      <td>Excelente</td>\n",
       "      <td>4.0</td>\n",
       "      <td>NaN</td>\n",
       "      <td>Ideal</td>\n",
       "      <td>NaN</td>\n",
       "      <td>NaN</td>\n",
       "    </tr>\n",
       "    <tr>\n",
       "      <th>3</th>\n",
       "      <td>Entre 41 e 50 anos</td>\n",
       "      <td>Masculino</td>\n",
       "      <td>Gestão/liderança</td>\n",
       "      <td>OGGA</td>\n",
       "      <td>4</td>\n",
       "      <td>6</td>\n",
       "      <td>2</td>\n",
       "      <td>3</td>\n",
       "      <td>1</td>\n",
       "      <td>5</td>\n",
       "      <td>...</td>\n",
       "      <td>NaN</td>\n",
       "      <td>NaN</td>\n",
       "      <td>Ter informação organizada de acordo com a estr...</td>\n",
       "      <td>Se mais colegas usassem</td>\n",
       "      <td>Excelente</td>\n",
       "      <td>5.0</td>\n",
       "      <td>NaN</td>\n",
       "      <td>Ideal</td>\n",
       "      <td>NaN</td>\n",
       "      <td>NaN</td>\n",
       "    </tr>\n",
       "    <tr>\n",
       "      <th>4</th>\n",
       "      <td>Entre 51 e 60 anos</td>\n",
       "      <td>Masculino</td>\n",
       "      <td>Técnico/administrativo</td>\n",
       "      <td>OOSB</td>\n",
       "      <td>2</td>\n",
       "      <td>3</td>\n",
       "      <td>4</td>\n",
       "      <td>5</td>\n",
       "      <td>1</td>\n",
       "      <td>6</td>\n",
       "      <td>...</td>\n",
       "      <td>NaN</td>\n",
       "      <td>NaN</td>\n",
       "      <td>NaN</td>\n",
       "      <td>NaN</td>\n",
       "      <td>Boa</td>\n",
       "      <td>5.0</td>\n",
       "      <td>ND</td>\n",
       "      <td>Ideal</td>\n",
       "      <td>NaN</td>\n",
       "      <td>ND</td>\n",
       "    </tr>\n",
       "  </tbody>\n",
       "</table>\n",
       "<p>5 rows × 34 columns</p>\n",
       "</div>"
      ],
      "text/plain": [
       "                Idade     Gênero      Categoria do cargo Sigla da sua unidade  \\\n",
       "0  Entre 41 e 50 anos   Feminino           Universitário                    M   \n",
       "1  Entre 51 e 60 anos  Masculino             Operacional                 osmi   \n",
       "2  Entre 41 e 50 anos  Masculino             Operacional                 OTDN   \n",
       "3  Entre 41 e 50 anos  Masculino        Gestão/liderança                 OGGA   \n",
       "4  Entre 51 e 60 anos  Masculino  Técnico/administrativo                 OOSB   \n",
       "\n",
       "   Comunicado Sabesp  \\\n",
       "0                  4   \n",
       "1                  4   \n",
       "2                  3   \n",
       "3                  4   \n",
       "4                  2   \n",
       "\n",
       "   Email matinal com as principais informações divulgadas no dia anterior no Workplace  \\\n",
       "0                                                  6                                     \n",
       "1                                                  1                                     \n",
       "2                                                  4                                     \n",
       "3                                                  6                                     \n",
       "4                                                  3                                     \n",
       "\n",
       "   Página da Unidade no Portal Sabesp  Portal Corporativo Sabesp  \\\n",
       "0                                   3                          5   \n",
       "1                                   6                          3   \n",
       "2                                   5                          2   \n",
       "3                                   2                          3   \n",
       "4                                   4                          5   \n",
       "\n",
       "   TV Corporativa  Workplace  ... Minha chefia utilizar a ferramenta  \\\n",
       "0               1          2  ...                                NaN   \n",
       "1               2          5  ...                                NaN   \n",
       "2               1          6  ...                                NaN   \n",
       "3               1          5  ...                                NaN   \n",
       "4               1          6  ...                                NaN   \n",
       "\n",
       "  Ter acesso a ferramentas de reunião, gestão do conhecimento ou compartilhamento de arquivos  \\\n",
       "0                                                NaN                                            \n",
       "1  Ter acesso a ferramentas de reunião, gestão do...                                            \n",
       "2                                                NaN                                            \n",
       "3                                                NaN                                            \n",
       "4                                                NaN                                            \n",
       "\n",
       "  Ter informação organizada de acordo com a estrutura corporativa, como no portal  \\\n",
       "0                                                NaN                                \n",
       "1                                                NaN                                \n",
       "2                                                NaN                                \n",
       "3  Ter informação organizada de acordo com a estr...                                \n",
       "4                                                NaN                                \n",
       "\n",
       "   Se mais colegas usassem  \\\n",
       "0                      NaN   \n",
       "1                      NaN   \n",
       "2                      NaN   \n",
       "3  Se mais colegas usassem   \n",
       "4                      NaN   \n",
       "\n",
       "  Pensando no seu líder imediato, avalie seu grau de satisfação em relação ao repasse das informações de caráter interno (informações corporativas, RH, institucionais, projetos e programas etc.)  \\\n",
       "0                                          Excelente                                                                                                                                                 \n",
       "1                                          Excelente                                                                                                                                                 \n",
       "2                                          Excelente                                                                                                                                                 \n",
       "3                                          Excelente                                                                                                                                                 \n",
       "4                                                Boa                                                                                                                                                 \n",
       "\n",
       "  De forma geral, qual é o seu nível de satisfação com a Comunicação Interna Sabesp em uma escala de 1 a 5, onde 1 é muito insatisfeito e 5 é muito satisfeito.  \\\n",
       "0                                                3.0                                                                                                              \n",
       "1                                                5.0                                                                                                              \n",
       "2                                                4.0                                                                                                              \n",
       "3                                                5.0                                                                                                              \n",
       "4                                                5.0                                                                                                              \n",
       "\n",
       "  Comente sua resposta  \\\n",
       "0                  NaN   \n",
       "1                  NaN   \n",
       "2                  NaN   \n",
       "3                  NaN   \n",
       "4                   ND   \n",
       "\n",
       "  Como você avalia a quantidade de informação disponibilizada nos veículos de Comunicação Interna (Conexão Sabesp no Workplace, Portal Corporativo, TV Corporativa, Comunicados Sabesp)?  \\\n",
       "0      Pouca. Não fico sabendo de tudo que gostaria.                                                                                                                                       \n",
       "1                                              Ideal                                                                                                                                       \n",
       "2                                              Ideal                                                                                                                                       \n",
       "3                                              Ideal                                                                                                                                       \n",
       "4                                              Ideal                                                                                                                                       \n",
       "\n",
       "  Outro (especifique).1  \\\n",
       "0                   NaN   \n",
       "1                   NaN   \n",
       "2                   NaN   \n",
       "3                   NaN   \n",
       "4                   NaN   \n",
       "\n",
       "  Você tem alguma sugestão específica para melhorar a comunicação interna nos próximos meses?  \n",
       "0                                                NaN                                           \n",
       "1                                                NaN                                           \n",
       "2                                                NaN                                           \n",
       "3                                                NaN                                           \n",
       "4                                                 ND                                           \n",
       "\n",
       "[5 rows x 34 columns]"
      ]
     },
     "execution_count": 2,
     "metadata": {},
     "output_type": "execute_result"
    }
   ],
   "source": [
    "df = pd.read_excel('PesquisaCI_124_Limpa.xlsx')\n",
    "df.head()"
   ]
  },
  {
   "cell_type": "code",
   "execution_count": 3,
   "metadata": {},
   "outputs": [],
   "source": [
    "# paleta de cores definidas pelo catálogo de identidade visual da marca de 50 anos\n",
    "# definir paleta de cores em HEX\n",
    "cores_hex = [\n",
    "    \"#12D0FF\", \"#01AAFF\",  # Azuis\n",
    "    \"#FFC601\", \"#FF8A01\",  # Laranjas\n",
    "    \"#FAB180\", \"#FF8A01\",  # Tons de pele\n",
    "    \"#129180\", \"#12A101\",  # Verdes\n",
    "    \"#FFFFFF\", \"#127001\"   # Branco e Verde escuro\n",
    "]\n",
    "\n",
    "# Definir a paleta usando o seaborn\n",
    "sns.set_palette(sns.color_palette(cores_hex))"
   ]
  },
  {
   "cell_type": "markdown",
   "metadata": {},
   "source": [
    "### Descrição da Base"
   ]
  },
  {
   "cell_type": "code",
   "execution_count": 4,
   "metadata": {},
   "outputs": [
    {
     "data": {
      "text/plain": [
       "(2183, 34)"
      ]
     },
     "execution_count": 4,
     "metadata": {},
     "output_type": "execute_result"
    }
   ],
   "source": [
    "# verificar o shape da base (pesquisa)\n",
    "df.shape"
   ]
  },
  {
   "cell_type": "markdown",
   "metadata": {},
   "source": [
    "São 2183 linhas, correspondentes ao número de respondentes da pesquisa. <br>\n",
    "São 34 colunas, correspondentes a perguntas OU especificações das perguntas (itens, respostas vinculadas etc.)"
   ]
  },
  {
   "cell_type": "code",
   "execution_count": 5,
   "metadata": {},
   "outputs": [],
   "source": [
    "# criar uma lista com os rótulos das colunas\n",
    "colums_list = df.columns.tolist()"
   ]
  },
  {
   "cell_type": "code",
   "execution_count": 6,
   "metadata": {},
   "outputs": [
    {
     "name": "stdout",
     "output_type": "stream",
     "text": [
      "0: Idade\n",
      "1: Gênero\n",
      "2: Categoria do cargo\n",
      "3: Sigla da sua unidade\n"
     ]
    }
   ],
   "source": [
    "# enumerar as colunas a um índice\n",
    "for i, col in enumerate(colums_list):\n",
    "    if i == 4:\n",
    "        break\n",
    "    print(f'{i}: {col}')\n",
    "    "
   ]
  },
  {
   "cell_type": "markdown",
   "metadata": {},
   "source": [
    "**Perguntas 1 a 4** <br>\n",
    "\n",
    "Dizem respeito a elementos que descrevem o respondente da pesquisa.\n",
    "\n",
    "* colunas 0 a 3: tipo str, categóricas, com rol previamente definidos. \n",
    "* colunas 4: é do tipo str, não categórica, limitada a 4 dígitos, e identificam a unidade de trabalho. \n"
   ]
  },
  {
   "cell_type": "code",
   "execution_count": 7,
   "metadata": {},
   "outputs": [
    {
     "name": "stdout",
     "output_type": "stream",
     "text": [
      "4: Comunicado Sabesp\n",
      "5: Email matinal com as principais informações divulgadas no dia anterior no Workplace\n",
      "6: Página da Unidade no Portal Sabesp\n",
      "7: Portal Corporativo Sabesp\n",
      "8: TV Corporativa\n",
      "9: Workplace\n"
     ]
    }
   ],
   "source": [
    "# enumerar as colunas a um índice\n",
    "for i, col in enumerate(colums_list):\n",
    "    if i <= 3:\n",
    "        continue\n",
    "    elif i == 10:\n",
    "        break \n",
    "    print(f'{i}: {col}')"
   ]
  },
  {
   "cell_type": "markdown",
   "metadata": {},
   "source": [
    "**Pergunta 5** <br>\n",
    "\n",
    "As colunas de 4 a 9 são itens da pergunta 4, com o enunciado:  <br>\n",
    "\"Qual meio de comunicação contribui melhor para você se sentir mais informado. Ordene de 1 a 6, onde 1 é menos eficaz e 6 é o meio mais eficaz\"\n",
    "\n",
    "Tratam-se de respostas rankeadas, com índice único e gradação obrigatória entre 1 e 6. <br>\n",
    "dtype: int\n"
   ]
  },
  {
   "cell_type": "code",
   "execution_count": 8,
   "metadata": {},
   "outputs": [
    {
     "name": "stdout",
     "output_type": "stream",
     "text": [
      "10: Você utiliza o Portal Corporativo?\n",
      "11: Qual é o principal motivo que o faz utilizar o Portal Corporativo?\n",
      "12: Você utiliza a página da sua Unidade no Portal Corporativo?\n",
      "13: Tenho acesso aos sistemas do meu departamento\n",
      "14: Vejo notícias específicas da minha área\n",
      "15: Tenho um repositório de documentos ordenados como relatórios, atas, tabelas.\n",
      "16: Tem informações da minha área que são úteis não só para mim como para todos da cia\n",
      "17: Outro (especifique)\n"
     ]
    }
   ],
   "source": [
    "# enumerar as colunas a um índice\n",
    "for i, col in enumerate(colums_list):\n",
    "    if i <= 9:\n",
    "        continue\n",
    "    elif i == 18:\n",
    "        break \n",
    "    print(f'{i}: {col}')"
   ]
  },
  {
   "cell_type": "markdown",
   "metadata": {},
   "source": [
    "**Perguntas 6 a 9** <br>\n",
    "\n",
    "São quatro perguntas relacionadas ao portal corporativo, a primeira é a coluna 10 de caráter geral e categórico verifica se o usuário usa ou não a plataforma. A segunda (coluna 11) é condicionada a resposta positiva da anterior (sim) e tem resposta do tipo aberta para esclarecer os motivos. <br>\n",
    "\n",
    "\n",
    "A terceira é a coluna 12 e especifica o uso de uma ferramenta específica do portal, a página da unidade. As colunas 13 a 17 fazem parte da quarta pergunta, condicionada a resposta afirmativa da anterior, e especificam em um rol quais os usos que a pessoa faz da ferramenta, deixando uma opção de preenchimento aberto ao final. <br>\n",
    "\n",
    "* coluna 10: str, categórica: sim ou não\n",
    "* colunna 11: str, aberta. \n",
    "* coluna 12: str, cateórica: sim ou não\n",
    "* colunas 13 a 16: str, valem apenas como contagem, o significado é definido no rótulo. \n",
    "* coluna 17: str, aberta. \n",
    "\n"
   ]
  },
  {
   "cell_type": "code",
   "execution_count": 9,
   "metadata": {},
   "outputs": [
    {
     "name": "stdout",
     "output_type": "stream",
     "text": [
      "18: Você utiliza o Workplace?\n",
      "19: Mais incentivo da chefia\n",
      "20: Conhecer melhor a ferramenta e entender o potencial do Workplace\n",
      "21: Não tenho interesse em utilizar a ferramenta\n",
      "22: Poderia incluir banco de dados, links e sistemas de uso da minha área\n",
      "23: Poderia incluir links/acessos e sistemas de uso geral como Biblioteca, UES, Reembolso, Hollerith\n",
      "24: Minha chefia utilizar a ferramenta\n",
      "25: Ter acesso a ferramentas de reunião, gestão do conhecimento ou compartilhamento de arquivos\n",
      "26: Ter informação organizada de acordo com a estrutura corporativa, como no portal\n",
      "27: Se mais colegas usassem\n",
      "28: Pensando no seu líder imediato, avalie seu grau de satisfação em relação ao repasse das informações de caráter interno (informações corporativas, RH, institucionais, projetos e programas etc.)\n",
      "29: De forma geral, qual é o seu nível de satisfação com a Comunicação Interna Sabesp em uma escala de 1 a 5, onde 1 é muito insatisfeito e 5 é muito satisfeito.\n"
     ]
    }
   ],
   "source": [
    "# enumerar as colunas a um índice\n",
    "for i, col in enumerate(colums_list):\n",
    "    if i <= 17:\n",
    "        continue\n",
    "    elif i == 30:\n",
    "        break \n",
    "    print(f'{i}: {col}')"
   ]
  },
  {
   "cell_type": "markdown",
   "metadata": {},
   "source": [
    "**Perguntas 10 e 11** <br>\n",
    "\n",
    "São perguntas relacionadas ao uso do Workplace (rede social interna). A primeira (coluna 18) é categórica (sim ou não) sobre o uso da plataforma. Em caso afirmativo, o usuário responde a uma segunda pergunta: <br>\n",
    "\"O que faria você aumentar a utilização? (escolha quantas forem verdadeiras)\".\n",
    "\n",
    "A partir desse momento é apresentado um rol de opções (coulnas 19 a 29), onde o importante é a contagem e a explicação do item está no próprio rótulo. \n",
    "\n",
    "* Coluna 18: str, categórico: sim ou não\n",
    "* Colunas 19 a 29: str, valem apenas como contagem"
   ]
  },
  {
   "cell_type": "code",
   "execution_count": 10,
   "metadata": {},
   "outputs": [
    {
     "name": "stdout",
     "output_type": "stream",
     "text": [
      "28: Pensando no seu líder imediato, avalie seu grau de satisfação em relação ao repasse das informações de caráter interno (informações corporativas, RH, institucionais, projetos e programas etc.)\n",
      "29: De forma geral, qual é o seu nível de satisfação com a Comunicação Interna Sabesp em uma escala de 1 a 5, onde 1 é muito insatisfeito e 5 é muito satisfeito.\n",
      "30: Comente sua resposta\n",
      "31: Como você avalia a quantidade de informação disponibilizada nos veículos de Comunicação Interna (Conexão Sabesp no Workplace, Portal Corporativo, TV Corporativa, Comunicados Sabesp)?\n",
      "32: Outro (especifique).1\n",
      "33: Você tem alguma sugestão específica para melhorar a comunicação interna nos próximos meses?\n"
     ]
    }
   ],
   "source": [
    "# enumerar as colunas a um índice\n",
    "for i, col in enumerate(colums_list):\n",
    "    if i <= 27:\n",
    "        continue\n",
    "    elif i == 40:\n",
    "        break \n",
    "    print(f'{i}: {col}')"
   ]
  },
  {
   "cell_type": "markdown",
   "metadata": {},
   "source": [
    "**Perguntas 12 a 15**<br>\n",
    "\n",
    "Rol de perguntas gerais sobre satisfação do usuário com a comunicação interna. A pergunta 12 (coluna 28) fala sobre a comunicação da liderança, a pergunta 13 (colunas 29 e 30) pergunta sobre a satisfação de maneira geral e convida (não obrigatória) a comentar a resposta. A pergunta 14 (coluna 31 e 32) possuem a mesma lógica da anterior e reflete sobre a quantidade de informação disponibilizada. Enquanto a pergunta 15 (coluna 33) é aberta e solicita sugestões de melhoria. \n",
    "<br>\n",
    "\n",
    "* 28: str, categórica com rol previamente definido\n",
    "* 29: int, de 1 a 5\n",
    "* 30: str, resposta aberta (opcional) vinculada a anterior\n",
    "* 31: str, categórica com rol previamente definido\n",
    "* 32: str, resposta aberta (opcional) vinculada a anterior\n",
    "* 33: str, resposta aberta (opcional)"
   ]
  },
  {
   "cell_type": "code",
   "execution_count": 11,
   "metadata": {},
   "outputs": [],
   "source": [
    "# Obter informações sobre os data types\n",
    "types_df = df.dtypes\n",
    "# Obter os valores nulos de cada coluna\n",
    "soma_nulos = df.isnull().sum()"
   ]
  },
  {
   "cell_type": "code",
   "execution_count": 12,
   "metadata": {},
   "outputs": [
    {
     "name": "stdout",
     "output_type": "stream",
     "text": [
      "indice: 11, dtype: object, soma de nulos: 172\n",
      "indice: 12, dtype: object, soma de nulos: 172\n",
      "indice: 13, dtype: object, soma de nulos: 1264\n",
      "indice: 14, dtype: object, soma de nulos: 1480\n",
      "indice: 15, dtype: object, soma de nulos: 1873\n",
      "indice: 16, dtype: object, soma de nulos: 1281\n",
      "indice: 17, dtype: object, soma de nulos: 2081\n",
      "indice: 18, dtype: object, soma de nulos: 38\n",
      "indice: 19, dtype: object, soma de nulos: 1983\n",
      "indice: 20, dtype: object, soma de nulos: 1580\n",
      "indice: 21, dtype: object, soma de nulos: 2136\n",
      "indice: 22, dtype: object, soma de nulos: 1559\n",
      "indice: 23, dtype: object, soma de nulos: 1398\n",
      "indice: 24, dtype: object, soma de nulos: 2047\n",
      "indice: 25, dtype: object, soma de nulos: 1550\n",
      "indice: 26, dtype: object, soma de nulos: 1277\n",
      "indice: 27, dtype: object, soma de nulos: 1908\n",
      "indice: 28, dtype: object, soma de nulos: 78\n",
      "indice: 29, dtype: float64, soma de nulos: 78\n",
      "indice: 30, dtype: object, soma de nulos: 1293\n",
      "indice: 31, dtype: object, soma de nulos: 78\n",
      "indice: 32, dtype: object, soma de nulos: 2041\n",
      "indice: 33, dtype: object, soma de nulos: 1214\n"
     ]
    }
   ],
   "source": [
    "# laço para coletar a coluna e o tipo de dado e exibir valores nulos somados\n",
    "\n",
    "for col, t in types_df.items():\n",
    "    indice = df.columns.get_loc(col) # coletar o indice de coluna para não exibir o nome (que é grande)\n",
    "    if soma_nulos[col] == 0:\n",
    "        continue\n",
    "    print(f'indice: {indice}, dtype: {t}, soma de nulos: {soma_nulos[col]}')\n",
    "\n"
   ]
  },
  {
   "cell_type": "markdown",
   "metadata": {},
   "source": [
    "**Ocorrência de nulos**<br>\n",
    "\n",
    "* 11 e 12: são os usuários que responderam não a pergunta 10 e por isso não podem responder a 11 e a 12\n",
    "* 13 a 17: são perguntas relacionadas a contagem de justificativas para a pergunta 12, naturalmente terá variação\n",
    "* &#x1F3AF; **18**: são pessoas que desistiram de completar a pesquisa -> **linhas precisam ser retiradas da amostra**\n",
    "* 19 a 27: mesmo caso do 13 a 17, mas relacionado a pergunta 18\n",
    "* &#x1F3AF; **28 e 31**: são outras 40 pessoas que desistiram de terminar a pesquisa ->  **linhas precisam ser retiradas da amostra**\n",
    "* 30, 32 e 33: respostas não obrigatórias\n"
   ]
  },
  {
   "cell_type": "markdown",
   "metadata": {},
   "source": [
    "## Limpeza dos dados"
   ]
  },
  {
   "cell_type": "code",
   "execution_count": 13,
   "metadata": {},
   "outputs": [
    {
     "name": "stdout",
     "output_type": "stream",
     "text": [
      "78\n"
     ]
    }
   ],
   "source": [
    "ls_shape = []\n",
    "ls_shape.append(df.shape[0])\n",
    "\n",
    "# retirar os valores nulos resultantes de desistências\n",
    "df = df.dropna(subset=[df.columns[28]])\n",
    "# verificar se foram retirados 78 itens\n",
    "ls_shape.append(df.shape[0])\n",
    "print(ls_shape[0] - ls_shape[1])"
   ]
  },
  {
   "cell_type": "code",
   "execution_count": 14,
   "metadata": {},
   "outputs": [
    {
     "name": "stdout",
     "output_type": "stream",
     "text": [
      "<class 'pandas.core.frame.DataFrame'>\n",
      "Index: 2105 entries, 0 to 2182\n",
      "Data columns (total 34 columns):\n",
      " #   Column                                                                                                                                                                                            Non-Null Count  Dtype  \n",
      "---  ------                                                                                                                                                                                            --------------  -----  \n",
      " 0   Idade                                                                                                                                                                                             2105 non-null   object \n",
      " 1   Gênero                                                                                                                                                                                            2105 non-null   object \n",
      " 2   Categoria do cargo                                                                                                                                                                                2105 non-null   object \n",
      " 3   Sigla da sua unidade                                                                                                                                                                              2105 non-null   object \n",
      " 4   Comunicado Sabesp                                                                                                                                                                                 2105 non-null   int64  \n",
      " 5   Email matinal com as principais informações divulgadas no dia anterior no Workplace                                                                                                               2105 non-null   int64  \n",
      " 6   Página da Unidade no Portal Sabesp                                                                                                                                                                2105 non-null   int64  \n",
      " 7   Portal Corporativo Sabesp                                                                                                                                                                         2105 non-null   int64  \n",
      " 8   TV Corporativa                                                                                                                                                                                    2105 non-null   int64  \n",
      " 9   Workplace                                                                                                                                                                                         2105 non-null   int64  \n",
      " 10  Você utiliza o Portal Corporativo?                                                                                                                                                                2105 non-null   object \n",
      " 11  Qual é o principal motivo que o faz utilizar o Portal Corporativo?                                                                                                                                1968 non-null   object \n",
      " 12  Você utiliza a página da sua Unidade no Portal Corporativo?                                                                                                                                       1968 non-null   object \n",
      " 13  Tenho acesso aos sistemas do meu departamento                                                                                                                                                     904 non-null    object \n",
      " 14  Vejo notícias específicas da minha área                                                                                                                                                           692 non-null    object \n",
      " 15  Tenho um repositório de documentos ordenados como relatórios, atas, tabelas.                                                                                                                      302 non-null    object \n",
      " 16  Tem informações da minha área que são úteis não só para mim como para todos da cia                                                                                                                892 non-null    object \n",
      " 17  Outro (especifique)                                                                                                                                                                               99 non-null     object \n",
      " 18  Você utiliza o Workplace?                                                                                                                                                                         2105 non-null   object \n",
      " 19  Mais incentivo da chefia                                                                                                                                                                          200 non-null    object \n",
      " 20  Conhecer melhor a ferramenta e entender o potencial do Workplace                                                                                                                                  603 non-null    object \n",
      " 21  Não tenho interesse em utilizar a ferramenta                                                                                                                                                      47 non-null     object \n",
      " 22  Poderia incluir banco de dados, links e sistemas de uso da minha área                                                                                                                             624 non-null    object \n",
      " 23  Poderia incluir links/acessos e sistemas de uso geral como Biblioteca, UES, Reembolso, Hollerith                                                                                                  785 non-null    object \n",
      " 24  Minha chefia utilizar a ferramenta                                                                                                                                                                136 non-null    object \n",
      " 25  Ter acesso a ferramentas de reunião, gestão do conhecimento ou compartilhamento de arquivos                                                                                                       633 non-null    object \n",
      " 26  Ter informação organizada de acordo com a estrutura corporativa, como no portal                                                                                                                   906 non-null    object \n",
      " 27  Se mais colegas usassem                                                                                                                                                                           275 non-null    object \n",
      " 28  Pensando no seu líder imediato, avalie seu grau de satisfação em relação ao repasse das informações de caráter interno (informações corporativas, RH, institucionais, projetos e programas etc.)  2105 non-null   object \n",
      " 29  De forma geral, qual é o seu nível de satisfação com a Comunicação Interna Sabesp em uma escala de 1 a 5, onde 1 é muito insatisfeito e 5 é muito satisfeito.                                     2105 non-null   float64\n",
      " 30  Comente sua resposta                                                                                                                                                                              890 non-null    object \n",
      " 31  Como você avalia a quantidade de informação disponibilizada nos veículos de Comunicação Interna (Conexão Sabesp no Workplace, Portal Corporativo, TV Corporativa, Comunicados Sabesp)?            2105 non-null   object \n",
      " 32  Outro (especifique).1                                                                                                                                                                             142 non-null    object \n",
      " 33  Você tem alguma sugestão específica para melhorar a comunicação interna nos próximos meses?                                                                                                       969 non-null    object \n",
      "dtypes: float64(1), int64(6), object(27)\n",
      "memory usage: 575.6+ KB\n"
     ]
    }
   ],
   "source": [
    "# checar rapidamente valores nulos das colunas restantes\n",
    "# coluna de indice 18 precisa ser igual a de indice 0\n",
    "df.info()"
   ]
  },
  {
   "cell_type": "markdown",
   "metadata": {},
   "source": [
    "### Refinamento da nomenclatura de unidades"
   ]
  },
  {
   "cell_type": "markdown",
   "metadata": {},
   "source": [
    "Essa é uma parte relativamente sensível da limpeza dos dados. <br>\n",
    "A empresa passou por um processo recente de reestruturação que modificou os nomes e as siglas, no entanto, essas mudanças levam tempo. <br>\n",
    "\n",
    "Será necessário fazer um de -> para da nomenclatura antiga para a atual, além de corrigir equívocos ou erros intencionais do usuário. "
   ]
  },
  {
   "cell_type": "code",
   "execution_count": 15,
   "metadata": {},
   "outputs": [
    {
     "data": {
      "text/plain": [
       "535"
      ]
     },
     "execution_count": 15,
     "metadata": {},
     "output_type": "execute_result"
    }
   ],
   "source": [
    "# verificar valores unicos para unidades\n",
    "df1 = df.copy()\n",
    "df1['Sigla da sua unidade'] = df1['Sigla da sua unidade'].str.lower().str.strip()\n",
    "df1['Sigla da sua unidade'].nunique()"
   ]
  },
  {
   "cell_type": "code",
   "execution_count": 16,
   "metadata": {},
   "outputs": [
    {
     "data": {
      "text/plain": [
       "Idade                   0\n",
       "Gênero                  0\n",
       "Categoria do cargo      0\n",
       "Sigla da sua unidade    2\n",
       "dtype: int64"
      ]
     },
     "execution_count": 16,
     "metadata": {},
     "output_type": "execute_result"
    }
   ],
   "source": [
    "# verificar novamente valores nulos\n",
    "df1.iloc[:, 0:4].isnull().sum()"
   ]
  },
  {
   "cell_type": "code",
   "execution_count": 17,
   "metadata": {},
   "outputs": [
    {
     "name": "stdout",
     "output_type": "stream",
     "text": [
      "                   Idade    Gênero Categoria do cargo Sigla da sua unidade\n",
      "1255  Entre 18 e 30 anos  Feminino           Aprendiz                  409\n",
      "1339  Entre 18 e 30 anos  Feminino           Aprendiz                  781\n"
     ]
    }
   ],
   "source": [
    "# verificar se havia linha com um espaço em branco ou não strings como resposta\n",
    "# Localizar as linhas com valores nulos na coluna 'Sigla da sua unidade'\n",
    "linhas_com_nulos = df[df1['Sigla da sua unidade'].isnull()]\n",
    "\n",
    "# Exibir as linhas encontradas\n",
    "print(linhas_com_nulos.iloc[:, 0:4])"
   ]
  },
  {
   "cell_type": "code",
   "execution_count": 18,
   "metadata": {},
   "outputs": [],
   "source": [
    "# excluir linhas 1255 e 1339 por entradas inválidas \n",
    "# Dropar as linhas onde 'Sigla da sua unidade' tem valores nulos\n",
    "df1 = df1.dropna(subset=['Sigla da sua unidade'])"
   ]
  },
  {
   "cell_type": "markdown",
   "metadata": {},
   "source": [
    "O número de 566 unidades é relativamente grande, pode ser o caso da granularidade entre diretoria, superintendência, departamento e divisão. Vamos trabalhar com as duas primeiras letras para entender o nível de superintendência. "
   ]
  },
  {
   "cell_type": "code",
   "execution_count": 19,
   "metadata": {},
   "outputs": [
    {
     "data": {
      "text/plain": [
       "94"
      ]
     },
     "execution_count": 19,
     "metadata": {},
     "output_type": "execute_result"
    }
   ],
   "source": [
    "# fazer o slice e gerar uma nova coluna para ele chamada superintendencia\n",
    "df1['superintendencia'] = df1['Sigla da sua unidade'].str.slice(0,2)\n",
    "df1['superintendencia'].nunique() # verificar valores unicos para a superintendencia"
   ]
  },
  {
   "cell_type": "code",
   "execution_count": 20,
   "metadata": {},
   "outputs": [],
   "source": [
    "# lista da coluna pela superintendência\n",
    "sup = df1['superintendencia'].tolist()\n",
    "\n",
    "\n",
    "\n",
    "def contar_ocorrencias_letra(sup, letra):\n",
    "    \"\"\"\n",
    "    Função para contar ocorrências de unidades de superintendência que começam com uma letra específica.\n",
    "\n",
    "    Argumentos:\n",
    "    sup (list): Lista de unidades de superintendência existentes.\n",
    "    letra (str): letras iniciais (máx 2) pela qual as ocorrências serão contadas.\n",
    "\n",
    "    Retorna:\n",
    "    int: O número de ocorrências de unidades de superintendência que começam com a letra especificada.\n",
    "    \"\"\"\n",
    "    contador = 0  # inicializa o contador\n",
    "    for k in sup:\n",
    "        if isinstance(k, str) and k.startswith(letra):\n",
    "            contador += 1  # incrementa o contador se a condição for atendida\n",
    "    return contador"
   ]
  },
  {
   "cell_type": "code",
   "execution_count": 21,
   "metadata": {},
   "outputs": [
    {
     "data": {
      "text/plain": [
       "64"
      ]
     },
     "execution_count": 21,
     "metadata": {},
     "output_type": "execute_result"
    }
   ],
   "source": [
    "# chamar função para área desejada, use minúsculas\n",
    "contar_ocorrencias_letra(sup, 'to')"
   ]
  },
  {
   "cell_type": "markdown",
   "metadata": {},
   "source": [
    "A diretoria operacional (antiga R e M) são casos com maior número de alterações. <br>\n",
    "Iniciar o processo pela conversão"
   ]
  },
  {
   "cell_type": "code",
   "execution_count": 22,
   "metadata": {},
   "outputs": [],
   "source": [
    "mapeamento_MR = {\n",
    "    'ma':'oa',\n",
    "    'mt':'oe',\n",
    "    'mm':'og',\n",
    "    'mc':'oc',\n",
    "    'mo':'oo',\n",
    "    'ml':'ol',\n",
    "    'mn':'on',\n",
    "    'ms':'os',\n",
    "    'rs':'ox',\n",
    "    'rr':'or',\n",
    "    'rn':'oi',\n",
    "    'rv':'ov',\n",
    "    'ra':'op',\n",
    "    'rj':'oj',\n",
    "    'rg':'of',\n",
    "    'rt':'ot',\n",
    "    'rb':'ou',\n",
    "    'rm':'om',\n",
    "    'r':'o',\n",
    "    'm':'o',\n",
    "    ' m':'o',\n",
    "    ' r':'o',\n",
    "    'r ':'o',\n",
    "    'm ':'o'\n",
    "}"
   ]
  },
  {
   "cell_type": "code",
   "execution_count": 23,
   "metadata": {},
   "outputs": [],
   "source": [
    "def redefinir_sup(mapeamento):\n",
    "    # subistituir os valores com base no mapeamento\n",
    "    df1['superintendencia'] = df1['superintendencia'].replace(mapeamento)\n",
    "    # verificar os valores unicos novamente\n",
    "    df1['superintendencia'].nunique()\n",
    "    "
   ]
  },
  {
   "cell_type": "code",
   "execution_count": 24,
   "metadata": {},
   "outputs": [],
   "source": [
    "redefinir_sup(mapeamento_MR)"
   ]
  },
  {
   "cell_type": "code",
   "execution_count": 25,
   "metadata": {},
   "outputs": [],
   "source": [
    "# atualizar lista de superintendencias\n",
    "sup =  df1['superintendencia'].tolist()\n",
    "diretorias = ['p', 'n', 'm', 'r', 'o', 'k', 'f', 'c', 't', 'e']\n",
    "\n",
    "# coletar sets de siglas das diretorias\n",
    "for s in sup: \n",
    "    p = set([s for s in sup if s.startswith('p')])\n",
    "    n = set([s for s in sup if s.startswith('n')])\n",
    "    m = set([s for s in sup if s.startswith('m')])\n",
    "    r = set([s for s in sup if s.startswith('r')])\n",
    "    o = set([s for s in sup if s.startswith('o')])\n",
    "    k = set([s for s in sup if s.startswith('k')])\n",
    "    f = set([s for s in sup if s.startswith('f')])\n",
    "    c = set([s for s in sup if s.startswith('c')])\n",
    "    t = set([s for s in sup if s.startswith('t')])\n",
    "    e = set([s for s in sup if s.startswith('e')])        \n"
   ]
  },
  {
   "cell_type": "code",
   "execution_count": 26,
   "metadata": {},
   "outputs": [
    {
     "name": "stdout",
     "output_type": "stream",
     "text": [
      "{'p1', 'pa', 'pc', 'pp', 'pi', 'p', 'ps', 'pd', 'pn'} \n",
      " {'nr', 'nn', 'nc', 'n'} \n",
      " {'mb'} \n",
      " {'ro'} \n",
      " {'om', 'of', 'o', 'ou', 'og', 'ol', 'ox', 'oc', 'os', 'oo', 'op', 'or', 'oi', 'ov', 'oe', 'oj', 'on', 'oa', 'ot', 'od'} \n",
      " {'ki', 'k', 'ke', 'kf'} \n",
      " {'f', 'fc', 'fi', 'fs', 'f/', 'ft', 'fx', 'ff'} \n",
      " {'ch', 'cl', 'cg', 'cs', 'ck', 'co', 'c'} \n",
      " {'tx', 'ti', 'to', 'tg', 'te', 't'} \n",
      " {'eo', 'eg', 'ep', 'er', 'ea', 'e', 'ei', 'em'}\n"
     ]
    }
   ],
   "source": [
    "print(p,'\\n', n,'\\n', m,'\\n', r,'\\n', o,'\\n', k,'\\n', f,'\\n', c,'\\n', t,'\\n', e)"
   ]
  },
  {
   "cell_type": "code",
   "execution_count": 27,
   "metadata": {},
   "outputs": [],
   "source": [
    "mapeamento_MR = {'t':'e', 'tg':'em', 'to':'eo', 'ti':'er', 'tx':'ei', 'te':'ep'}\n",
    "redefinir_sup(mapeamento_MR)"
   ]
  },
  {
   "cell_type": "code",
   "execution_count": 28,
   "metadata": {},
   "outputs": [],
   "source": [
    "# função para verificar superintendências\n",
    "def verificar_sup(sigla):\n",
    "    linhas_verificáveis = df1[df1['superintendencia'] == sigla]\n",
    "    print(linhas_verificáveis.iloc[:, 0:4])\n"
   ]
  },
  {
   "cell_type": "code",
   "execution_count": 29,
   "metadata": {},
   "outputs": [
    {
     "name": "stdout",
     "output_type": "stream",
     "text": [
      "                   Idade     Gênero      Categoria do cargo  \\\n",
      "4     Entre 51 e 60 anos  Masculino  Técnico/administrativo   \n",
      "14    Entre 51 e 60 anos  Masculino  Técnico/administrativo   \n",
      "19    Entre 51 e 60 anos   Feminino  Técnico/administrativo   \n",
      "32    Entre 51 e 60 anos  Masculino             Operacional   \n",
      "45    Entre 51 e 60 anos  Masculino             Operacional   \n",
      "...                  ...        ...                     ...   \n",
      "2028  Entre 51 e 60 anos  Masculino           Universitário   \n",
      "2040  Entre 51 e 60 anos  Masculino           Universitário   \n",
      "2082  Entre 61 e 70 anos  Masculino  Técnico/administrativo   \n",
      "2167  Entre 41 e 50 anos   Feminino  Técnico/administrativo   \n",
      "2175  Entre 51 e 60 anos   Feminino           Universitário   \n",
      "\n",
      "     Sigla da sua unidade  \n",
      "4                    oosb  \n",
      "14                    oom  \n",
      "19                   oost  \n",
      "32                   oomt  \n",
      "45                   oomb  \n",
      "...                   ...  \n",
      "2028                 moee  \n",
      "2040                   oo  \n",
      "2082                  oos  \n",
      "2167                  oos  \n",
      "2175                  oos  \n",
      "\n",
      "[79 rows x 4 columns]\n"
     ]
    }
   ],
   "source": [
    "verificar_sup('oo')"
   ]
  },
  {
   "cell_type": "code",
   "execution_count": 30,
   "metadata": {},
   "outputs": [
    {
     "name": "stdout",
     "output_type": "stream",
     "text": [
      "                   Idade     Gênero      Categoria do cargo  \\\n",
      "285   Entre 51 e 60 anos  Masculino             Operacional   \n",
      "948   Entre 61 e 70 anos  Masculino  Técnico/administrativo   \n",
      "2137  Entre 51 e 60 anos  Masculino             Operacional   \n",
      "\n",
      "     Sigla da sua unidade  \n",
      "285                  romi  \n",
      "948                    ro  \n",
      "2137                   ro  \n"
     ]
    }
   ],
   "source": [
    "verificar_sup('ro')"
   ]
  },
  {
   "cell_type": "code",
   "execution_count": 31,
   "metadata": {},
   "outputs": [],
   "source": [
    "mapeamento_MR = {'mb':'o', 'ro':'od', 'f/':'f'}\n",
    "# subistituir os valores com base no mapeamento\n",
    "redefinir_sup(mapeamento_MR)"
   ]
  },
  {
   "cell_type": "code",
   "execution_count": 32,
   "metadata": {},
   "outputs": [
    {
     "name": "stdout",
     "output_type": "stream",
     "text": [
      "{'g', '0', 'a', 's', 'u'}\n"
     ]
    }
   ],
   "source": [
    "# Conjunto para armazenar a primeira letra de cada sigla\n",
    "primeiras_letras = set()\n",
    "\n",
    "# Loop sobre cada sigla na lista\n",
    "for sigla in sup:\n",
    "    # Adiciona a primeira letra da sigla ao conjunto\n",
    "    primeiras_letras.add(sigla[0])\n",
    "\n",
    "# Exibe o conjunto resultante\n",
    "print(primeiras_letras - set(diretorias))"
   ]
  },
  {
   "cell_type": "code",
   "execution_count": 33,
   "metadata": {},
   "outputs": [
    {
     "name": "stdout",
     "output_type": "stream",
     "text": [
      "3 3 2 3 1\n"
     ]
    }
   ],
   "source": [
    "print(contar_ocorrencias_letra(sup, 's'),\n",
    "      contar_ocorrencias_letra(sup, 'a'),\n",
    "      contar_ocorrencias_letra(sup, 'g'),\n",
    "      contar_ocorrencias_letra(sup, '0'),\n",
    "      contar_ocorrencias_letra(sup, 'u'))"
   ]
  },
  {
   "cell_type": "code",
   "execution_count": 34,
   "metadata": {},
   "outputs": [],
   "source": [
    "def filtrar_letra(coluna, letra):\n",
    "    # Filtrar o DataFrame para as linhas onde a coluna \"superintendencia\" começa com a letra especificada\n",
    "    linhas_filtradas = df1[df1[coluna].str.startswith(letra)]\n",
    "    \n",
    "    # Mostrar as 4 primeiras colunas dessas linhas\n",
    "    return linhas_filtradas.iloc[:, :4]"
   ]
  },
  {
   "cell_type": "code",
   "execution_count": 35,
   "metadata": {},
   "outputs": [
    {
     "data": {
      "text/html": [
       "<div>\n",
       "<style scoped>\n",
       "    .dataframe tbody tr th:only-of-type {\n",
       "        vertical-align: middle;\n",
       "    }\n",
       "\n",
       "    .dataframe tbody tr th {\n",
       "        vertical-align: top;\n",
       "    }\n",
       "\n",
       "    .dataframe thead th {\n",
       "        text-align: right;\n",
       "    }\n",
       "</style>\n",
       "<table border=\"1\" class=\"dataframe\">\n",
       "  <thead>\n",
       "    <tr style=\"text-align: right;\">\n",
       "      <th></th>\n",
       "      <th>Idade</th>\n",
       "      <th>Gênero</th>\n",
       "      <th>Categoria do cargo</th>\n",
       "      <th>Sigla da sua unidade</th>\n",
       "    </tr>\n",
       "  </thead>\n",
       "  <tbody>\n",
       "    <tr>\n",
       "      <th>737</th>\n",
       "      <td>Entre 61 e 70 anos</td>\n",
       "      <td>Masculino</td>\n",
       "      <td>Técnico/administrativo</td>\n",
       "      <td>sac</td>\n",
       "    </tr>\n",
       "    <tr>\n",
       "      <th>1635</th>\n",
       "      <td>Entre 51 e 60 anos</td>\n",
       "      <td>Feminino</td>\n",
       "      <td>Gestão/liderança</td>\n",
       "      <td>sac</td>\n",
       "    </tr>\n",
       "    <tr>\n",
       "      <th>1691</th>\n",
       "      <td>Entre 51 e 60 anos</td>\n",
       "      <td>Masculino</td>\n",
       "      <td>Operacional</td>\n",
       "      <td>sac</td>\n",
       "    </tr>\n",
       "  </tbody>\n",
       "</table>\n",
       "</div>"
      ],
      "text/plain": [
       "                   Idade     Gênero      Categoria do cargo  \\\n",
       "737   Entre 61 e 70 anos  Masculino  Técnico/administrativo   \n",
       "1635  Entre 51 e 60 anos   Feminino        Gestão/liderança   \n",
       "1691  Entre 51 e 60 anos  Masculino             Operacional   \n",
       "\n",
       "     Sigla da sua unidade  \n",
       "737                   sac  \n",
       "1635                  sac  \n",
       "1691                  sac  "
      ]
     },
     "execution_count": 35,
     "metadata": {},
     "output_type": "execute_result"
    }
   ],
   "source": [
    "filtrar_letra('superintendencia', 's')"
   ]
  },
  {
   "cell_type": "code",
   "execution_count": 36,
   "metadata": {},
   "outputs": [
    {
     "data": {
      "text/html": [
       "<div>\n",
       "<style scoped>\n",
       "    .dataframe tbody tr th:only-of-type {\n",
       "        vertical-align: middle;\n",
       "    }\n",
       "\n",
       "    .dataframe tbody tr th {\n",
       "        vertical-align: top;\n",
       "    }\n",
       "\n",
       "    .dataframe thead th {\n",
       "        text-align: right;\n",
       "    }\n",
       "</style>\n",
       "<table border=\"1\" class=\"dataframe\">\n",
       "  <thead>\n",
       "    <tr style=\"text-align: right;\">\n",
       "      <th></th>\n",
       "      <th>Idade</th>\n",
       "      <th>Gênero</th>\n",
       "      <th>Categoria do cargo</th>\n",
       "      <th>Sigla da sua unidade</th>\n",
       "    </tr>\n",
       "  </thead>\n",
       "  <tbody>\n",
       "    <tr>\n",
       "      <th>538</th>\n",
       "      <td>Entre 41 e 50 anos</td>\n",
       "      <td>Masculino</td>\n",
       "      <td>Técnico/administrativo</td>\n",
       "      <td>aotg</td>\n",
       "    </tr>\n",
       "    <tr>\n",
       "      <th>860</th>\n",
       "      <td>Entre 51 e 60 anos</td>\n",
       "      <td>Masculino</td>\n",
       "      <td>Gestão/liderança</td>\n",
       "      <td>aotg</td>\n",
       "    </tr>\n",
       "    <tr>\n",
       "      <th>1999</th>\n",
       "      <td>Entre 51 e 60 anos</td>\n",
       "      <td>Feminino</td>\n",
       "      <td>Técnico/administrativo</td>\n",
       "      <td>adm.</td>\n",
       "    </tr>\n",
       "  </tbody>\n",
       "</table>\n",
       "</div>"
      ],
      "text/plain": [
       "                   Idade     Gênero      Categoria do cargo  \\\n",
       "538   Entre 41 e 50 anos  Masculino  Técnico/administrativo   \n",
       "860   Entre 51 e 60 anos  Masculino        Gestão/liderança   \n",
       "1999  Entre 51 e 60 anos   Feminino  Técnico/administrativo   \n",
       "\n",
       "     Sigla da sua unidade  \n",
       "538                  aotg  \n",
       "860                  aotg  \n",
       "1999                 adm.  "
      ]
     },
     "execution_count": 36,
     "metadata": {},
     "output_type": "execute_result"
    }
   ],
   "source": [
    "filtrar_letra('superintendencia', 'a')"
   ]
  },
  {
   "cell_type": "code",
   "execution_count": 37,
   "metadata": {},
   "outputs": [
    {
     "data": {
      "text/html": [
       "<div>\n",
       "<style scoped>\n",
       "    .dataframe tbody tr th:only-of-type {\n",
       "        vertical-align: middle;\n",
       "    }\n",
       "\n",
       "    .dataframe tbody tr th {\n",
       "        vertical-align: top;\n",
       "    }\n",
       "\n",
       "    .dataframe thead th {\n",
       "        text-align: right;\n",
       "    }\n",
       "</style>\n",
       "<table border=\"1\" class=\"dataframe\">\n",
       "  <thead>\n",
       "    <tr style=\"text-align: right;\">\n",
       "      <th></th>\n",
       "      <th>Idade</th>\n",
       "      <th>Gênero</th>\n",
       "      <th>Categoria do cargo</th>\n",
       "      <th>Sigla da sua unidade</th>\n",
       "    </tr>\n",
       "  </thead>\n",
       "  <tbody>\n",
       "    <tr>\n",
       "      <th>1631</th>\n",
       "      <td>Entre 51 e 60 anos</td>\n",
       "      <td>Masculino</td>\n",
       "      <td>Operacional</td>\n",
       "      <td>ggol</td>\n",
       "    </tr>\n",
       "    <tr>\n",
       "      <th>2039</th>\n",
       "      <td>Entre 51 e 60 anos</td>\n",
       "      <td>Masculino</td>\n",
       "      <td>Técnico/administrativo</td>\n",
       "      <td>glg</td>\n",
       "    </tr>\n",
       "  </tbody>\n",
       "</table>\n",
       "</div>"
      ],
      "text/plain": [
       "                   Idade     Gênero      Categoria do cargo  \\\n",
       "1631  Entre 51 e 60 anos  Masculino             Operacional   \n",
       "2039  Entre 51 e 60 anos  Masculino  Técnico/administrativo   \n",
       "\n",
       "     Sigla da sua unidade  \n",
       "1631                 ggol  \n",
       "2039                  glg  "
      ]
     },
     "execution_count": 37,
     "metadata": {},
     "output_type": "execute_result"
    }
   ],
   "source": [
    "filtrar_letra('superintendencia', 'g')"
   ]
  },
  {
   "cell_type": "code",
   "execution_count": 38,
   "metadata": {},
   "outputs": [
    {
     "data": {
      "text/html": [
       "<div>\n",
       "<style scoped>\n",
       "    .dataframe tbody tr th:only-of-type {\n",
       "        vertical-align: middle;\n",
       "    }\n",
       "\n",
       "    .dataframe tbody tr th {\n",
       "        vertical-align: top;\n",
       "    }\n",
       "\n",
       "    .dataframe thead th {\n",
       "        text-align: right;\n",
       "    }\n",
       "</style>\n",
       "<table border=\"1\" class=\"dataframe\">\n",
       "  <thead>\n",
       "    <tr style=\"text-align: right;\">\n",
       "      <th></th>\n",
       "      <th>Idade</th>\n",
       "      <th>Gênero</th>\n",
       "      <th>Categoria do cargo</th>\n",
       "      <th>Sigla da sua unidade</th>\n",
       "    </tr>\n",
       "  </thead>\n",
       "  <tbody>\n",
       "    <tr>\n",
       "      <th>1269</th>\n",
       "      <td>Entre 51 e 60 anos</td>\n",
       "      <td>Masculino</td>\n",
       "      <td>Gestão/liderança</td>\n",
       "      <td>ufms</td>\n",
       "    </tr>\n",
       "  </tbody>\n",
       "</table>\n",
       "</div>"
      ],
      "text/plain": [
       "                   Idade     Gênero Categoria do cargo Sigla da sua unidade\n",
       "1269  Entre 51 e 60 anos  Masculino   Gestão/liderança                 ufms"
      ]
     },
     "execution_count": 38,
     "metadata": {},
     "output_type": "execute_result"
    }
   ],
   "source": [
    "filtrar_letra('superintendencia', 'u')"
   ]
  },
  {
   "cell_type": "code",
   "execution_count": 39,
   "metadata": {},
   "outputs": [
    {
     "data": {
      "text/html": [
       "<div>\n",
       "<style scoped>\n",
       "    .dataframe tbody tr th:only-of-type {\n",
       "        vertical-align: middle;\n",
       "    }\n",
       "\n",
       "    .dataframe tbody tr th {\n",
       "        vertical-align: top;\n",
       "    }\n",
       "\n",
       "    .dataframe thead th {\n",
       "        text-align: right;\n",
       "    }\n",
       "</style>\n",
       "<table border=\"1\" class=\"dataframe\">\n",
       "  <thead>\n",
       "    <tr style=\"text-align: right;\">\n",
       "      <th></th>\n",
       "      <th>Idade</th>\n",
       "      <th>Gênero</th>\n",
       "      <th>Categoria do cargo</th>\n",
       "      <th>Sigla da sua unidade</th>\n",
       "    </tr>\n",
       "  </thead>\n",
       "  <tbody>\n",
       "    <tr>\n",
       "      <th>792</th>\n",
       "      <td>Entre 41 e 50 anos</td>\n",
       "      <td>Feminino</td>\n",
       "      <td>Técnico/administrativo</td>\n",
       "      <td>00</td>\n",
       "    </tr>\n",
       "    <tr>\n",
       "      <th>1065</th>\n",
       "      <td>Entre 41 e 50 anos</td>\n",
       "      <td>Masculino</td>\n",
       "      <td>Operacional</td>\n",
       "      <td>0i</td>\n",
       "    </tr>\n",
       "    <tr>\n",
       "      <th>1406</th>\n",
       "      <td>Entre 31 e 40 anos</td>\n",
       "      <td>Masculino</td>\n",
       "      <td>Universitário</td>\n",
       "      <td>000</td>\n",
       "    </tr>\n",
       "  </tbody>\n",
       "</table>\n",
       "</div>"
      ],
      "text/plain": [
       "                   Idade     Gênero      Categoria do cargo  \\\n",
       "792   Entre 41 e 50 anos   Feminino  Técnico/administrativo   \n",
       "1065  Entre 41 e 50 anos  Masculino             Operacional   \n",
       "1406  Entre 31 e 40 anos  Masculino           Universitário   \n",
       "\n",
       "     Sigla da sua unidade  \n",
       "792                    00  \n",
       "1065                   0i  \n",
       "1406                  000  "
      ]
     },
     "execution_count": 39,
     "metadata": {},
     "output_type": "execute_result"
    }
   ],
   "source": [
    "filtrar_letra('superintendencia', '0')"
   ]
  },
  {
   "cell_type": "code",
   "execution_count": 40,
   "metadata": {},
   "outputs": [],
   "source": [
    "# dropar linhas pelo indice\n",
    "df1 = df1.drop([538, 792, 860, 1065, 1269, 1406, 1631, 1999, 2039])"
   ]
  },
  {
   "cell_type": "code",
   "execution_count": 41,
   "metadata": {},
   "outputs": [],
   "source": [
    "mapeamento_MR = {'sa':'k'}\n",
    "redefinir_sup(mapeamento_MR)"
   ]
  },
  {
   "cell_type": "code",
   "execution_count": 42,
   "metadata": {},
   "outputs": [
    {
     "data": {
      "text/plain": [
       "7"
      ]
     },
     "execution_count": 42,
     "metadata": {},
     "output_type": "execute_result"
    }
   ],
   "source": [
    "# fazer o slice e gerar uma nova coluna para ele chamada diretoria\n",
    "df1['diretoria'] = df1['superintendencia'].str.slice(0,1)\n",
    "df1['diretoria'].nunique() # verificar valores unicos para a superintendencia"
   ]
  },
  {
   "cell_type": "code",
   "execution_count": 43,
   "metadata": {},
   "outputs": [
    {
     "data": {
      "text/plain": [
       "diretoria\n",
       "o    1507\n",
       "e     165\n",
       "f     141\n",
       "c     126\n",
       "p      74\n",
       "k      69\n",
       "n      12\n",
       "Name: count, dtype: int64"
      ]
     },
     "execution_count": 43,
     "metadata": {},
     "output_type": "execute_result"
    }
   ],
   "source": [
    "df1.diretoria.value_counts()"
   ]
  },
  {
   "cell_type": "code",
   "execution_count": 44,
   "metadata": {},
   "outputs": [
    {
     "data": {
      "text/html": [
       "<div>\n",
       "<style scoped>\n",
       "    .dataframe tbody tr th:only-of-type {\n",
       "        vertical-align: middle;\n",
       "    }\n",
       "\n",
       "    .dataframe tbody tr th {\n",
       "        vertical-align: top;\n",
       "    }\n",
       "\n",
       "    .dataframe thead th {\n",
       "        text-align: right;\n",
       "    }\n",
       "</style>\n",
       "<table border=\"1\" class=\"dataframe\">\n",
       "  <thead>\n",
       "    <tr style=\"text-align: right;\">\n",
       "      <th></th>\n",
       "      <th>Comunicado Sabesp</th>\n",
       "      <th>Email matinal com as principais informações divulgadas no dia anterior no Workplace</th>\n",
       "      <th>Página da Unidade no Portal Sabesp</th>\n",
       "      <th>Portal Corporativo Sabesp</th>\n",
       "      <th>TV Corporativa</th>\n",
       "      <th>Workplace</th>\n",
       "      <th>De forma geral, qual é o seu nível de satisfação com a Comunicação Interna Sabesp em uma escala de 1 a 5, onde 1 é muito insatisfeito e 5 é muito satisfeito.</th>\n",
       "    </tr>\n",
       "  </thead>\n",
       "  <tbody>\n",
       "    <tr>\n",
       "      <th>count</th>\n",
       "      <td>2094.000000</td>\n",
       "      <td>2094.000000</td>\n",
       "      <td>2094.000000</td>\n",
       "      <td>2094.000000</td>\n",
       "      <td>2094.000000</td>\n",
       "      <td>2094.000000</td>\n",
       "      <td>2094.000000</td>\n",
       "    </tr>\n",
       "    <tr>\n",
       "      <th>mean</th>\n",
       "      <td>3.787966</td>\n",
       "      <td>3.775549</td>\n",
       "      <td>3.348615</td>\n",
       "      <td>3.719198</td>\n",
       "      <td>2.696275</td>\n",
       "      <td>3.672397</td>\n",
       "      <td>3.697230</td>\n",
       "    </tr>\n",
       "    <tr>\n",
       "      <th>std</th>\n",
       "      <td>1.647343</td>\n",
       "      <td>1.775034</td>\n",
       "      <td>1.412779</td>\n",
       "      <td>1.393262</td>\n",
       "      <td>2.117751</td>\n",
       "      <td>1.541164</td>\n",
       "      <td>0.967717</td>\n",
       "    </tr>\n",
       "    <tr>\n",
       "      <th>min</th>\n",
       "      <td>1.000000</td>\n",
       "      <td>1.000000</td>\n",
       "      <td>0.000000</td>\n",
       "      <td>1.000000</td>\n",
       "      <td>0.000000</td>\n",
       "      <td>1.000000</td>\n",
       "      <td>1.000000</td>\n",
       "    </tr>\n",
       "    <tr>\n",
       "      <th>25%</th>\n",
       "      <td>2.000000</td>\n",
       "      <td>2.000000</td>\n",
       "      <td>2.000000</td>\n",
       "      <td>3.000000</td>\n",
       "      <td>1.000000</td>\n",
       "      <td>2.000000</td>\n",
       "      <td>3.000000</td>\n",
       "    </tr>\n",
       "    <tr>\n",
       "      <th>50%</th>\n",
       "      <td>4.000000</td>\n",
       "      <td>4.000000</td>\n",
       "      <td>3.000000</td>\n",
       "      <td>4.000000</td>\n",
       "      <td>1.000000</td>\n",
       "      <td>4.000000</td>\n",
       "      <td>4.000000</td>\n",
       "    </tr>\n",
       "    <tr>\n",
       "      <th>75%</th>\n",
       "      <td>5.000000</td>\n",
       "      <td>5.000000</td>\n",
       "      <td>5.000000</td>\n",
       "      <td>5.000000</td>\n",
       "      <td>5.000000</td>\n",
       "      <td>5.000000</td>\n",
       "      <td>4.000000</td>\n",
       "    </tr>\n",
       "    <tr>\n",
       "      <th>max</th>\n",
       "      <td>6.000000</td>\n",
       "      <td>6.000000</td>\n",
       "      <td>8.000000</td>\n",
       "      <td>6.000000</td>\n",
       "      <td>6.000000</td>\n",
       "      <td>6.000000</td>\n",
       "      <td>5.000000</td>\n",
       "    </tr>\n",
       "  </tbody>\n",
       "</table>\n",
       "</div>"
      ],
      "text/plain": [
       "       Comunicado Sabesp  \\\n",
       "count        2094.000000   \n",
       "mean            3.787966   \n",
       "std             1.647343   \n",
       "min             1.000000   \n",
       "25%             2.000000   \n",
       "50%             4.000000   \n",
       "75%             5.000000   \n",
       "max             6.000000   \n",
       "\n",
       "       Email matinal com as principais informações divulgadas no dia anterior no Workplace  \\\n",
       "count                                        2094.000000                                     \n",
       "mean                                            3.775549                                     \n",
       "std                                             1.775034                                     \n",
       "min                                             1.000000                                     \n",
       "25%                                             2.000000                                     \n",
       "50%                                             4.000000                                     \n",
       "75%                                             5.000000                                     \n",
       "max                                             6.000000                                     \n",
       "\n",
       "       Página da Unidade no Portal Sabesp  Portal Corporativo Sabesp  \\\n",
       "count                         2094.000000                2094.000000   \n",
       "mean                             3.348615                   3.719198   \n",
       "std                              1.412779                   1.393262   \n",
       "min                              0.000000                   1.000000   \n",
       "25%                              2.000000                   3.000000   \n",
       "50%                              3.000000                   4.000000   \n",
       "75%                              5.000000                   5.000000   \n",
       "max                              8.000000                   6.000000   \n",
       "\n",
       "       TV Corporativa    Workplace  \\\n",
       "count     2094.000000  2094.000000   \n",
       "mean         2.696275     3.672397   \n",
       "std          2.117751     1.541164   \n",
       "min          0.000000     1.000000   \n",
       "25%          1.000000     2.000000   \n",
       "50%          1.000000     4.000000   \n",
       "75%          5.000000     5.000000   \n",
       "max          6.000000     6.000000   \n",
       "\n",
       "       De forma geral, qual é o seu nível de satisfação com a Comunicação Interna Sabesp em uma escala de 1 a 5, onde 1 é muito insatisfeito e 5 é muito satisfeito.  \n",
       "count                                        2094.000000                                                                                                              \n",
       "mean                                            3.697230                                                                                                              \n",
       "std                                             0.967717                                                                                                              \n",
       "min                                             1.000000                                                                                                              \n",
       "25%                                             3.000000                                                                                                              \n",
       "50%                                             4.000000                                                                                                              \n",
       "75%                                             4.000000                                                                                                              \n",
       "max                                             5.000000                                                                                                              "
      ]
     },
     "execution_count": 44,
     "metadata": {},
     "output_type": "execute_result"
    }
   ],
   "source": [
    "# verificar dados gerais\n",
    "df1.describe()"
   ]
  },
  {
   "cell_type": "markdown",
   "metadata": {},
   "source": [
    "Há problemas relacionados as colunnas:\n",
    "* página da unidade no portal, com valores abaixo do min e acima do max\n",
    "* tv corporativa, valores abaixo do mínimo"
   ]
  },
  {
   "cell_type": "code",
   "execution_count": 45,
   "metadata": {},
   "outputs": [
    {
     "name": "stdout",
     "output_type": "stream",
     "text": [
      "Página da Unidade no Portal Sabesp\n",
      "2    542\n",
      "3    442\n",
      "4    417\n",
      "5    390\n",
      "1    166\n",
      "6    135\n",
      "0      1\n",
      "8      1\n",
      "Name: count, dtype: int64 TV Corporativa\n",
      "1    1101\n",
      "6     494\n",
      "2     206\n",
      "5     111\n",
      "3     110\n",
      "4      71\n",
      "0       1\n",
      "Name: count, dtype: int64\n"
     ]
    }
   ],
   "source": [
    "print(df1['Página da Unidade no Portal Sabesp'].value_counts(), df1['TV Corporativa'].value_counts())"
   ]
  },
  {
   "cell_type": "code",
   "execution_count": 46,
   "metadata": {},
   "outputs": [],
   "source": [
    "# alterar valores 0 -> 1 e valores 8 -> 6\n",
    "troca_valores = {8:6, 0:1}\n",
    "troca_valor = {0:1}\n",
    "# subistituir os valores com base no mapeamento\n",
    "df1['Página da Unidade no Portal Sabesp'] = df1['Página da Unidade no Portal Sabesp'].replace(troca_valores)\n",
    "df1['TV Corporativa'] = df1['TV Corporativa'].replace(troca_valor)"
   ]
  },
  {
   "cell_type": "code",
   "execution_count": 47,
   "metadata": {},
   "outputs": [
    {
     "name": "stdout",
     "output_type": "stream",
     "text": [
      "Página da Unidade no Portal Sabesp\n",
      "2    542\n",
      "3    442\n",
      "4    417\n",
      "5    390\n",
      "1    167\n",
      "6    136\n",
      "Name: count, dtype: int64 TV Corporativa\n",
      "1    1102\n",
      "6     494\n",
      "2     206\n",
      "5     111\n",
      "3     110\n",
      "4      71\n",
      "Name: count, dtype: int64\n"
     ]
    }
   ],
   "source": [
    "print(df1['Página da Unidade no Portal Sabesp'].value_counts(), df1['TV Corporativa'].value_counts())"
   ]
  },
  {
   "cell_type": "markdown",
   "metadata": {},
   "source": [
    "## Análise Descritiva"
   ]
  },
  {
   "cell_type": "markdown",
   "metadata": {},
   "source": [
    "### Composição da amostra\n",
    "Análise das características dos respondentes"
   ]
  },
  {
   "cell_type": "code",
   "execution_count": 77,
   "metadata": {},
   "outputs": [],
   "source": [
    "# função para verificar porcentagens dos valores de colunas\n",
    "def verificar_porcentagens(coluna):\n",
    "    total = df1[coluna].value_counts().sum()\n",
    "    contagem = df1[coluna].value_counts()\n",
    "    \n",
    "    for i, n in contagem.items():\n",
    "        p = (n / total) * 100\n",
    "        print(f'{i}: {p:.2f}%')\n"
   ]
  },
  {
   "cell_type": "code",
   "execution_count": 76,
   "metadata": {},
   "outputs": [
    {
     "name": "stdout",
     "output_type": "stream",
     "text": [
      "Entre 51 e 60 anos: 38.40%\n",
      "Entre 41 e 50 anos: 31.66%\n",
      "Entre 31 e 40 anos: 15.71%\n",
      "Entre 61 e 70 anos: 9.22%\n",
      "Entre 18 e 30 anos: 3.96%\n",
      "Menor de 18 anos: 0.76%\n",
      "Mais de 71 anos: 0.29%\n"
     ]
    }
   ],
   "source": [
    "# renomear para usar minúscula\n",
    "df1.rename(columns={'Idade': 'idade'}, inplace=True)\n",
    "verificar_porcentagens('idade')"
   ]
  },
  {
   "cell_type": "markdown",
   "metadata": {},
   "source": [
    "Nota: para as análises de distribuição os valores relativos a menores de 18 e maiores 71 anos são desnecessários como filtro de observação"
   ]
  },
  {
   "cell_type": "code",
   "execution_count": 49,
   "metadata": {},
   "outputs": [
    {
     "data": {
      "image/png": "[encoded data removed]",
      "text/plain": [
       "<Figure size 640x480 with 1 Axes>"
      ]
     },
     "metadata": {},
     "output_type": "display_data"
    }
   ],
   "source": [
    "# plotar gráfico de idade\n",
    "# Definindo os intervalos de idade\n",
    "intervalos_idade = ['Menor de 18 anos', 'Entre 18 e 30 anos',\n",
    "'Entre 31 e 40 anos',\n",
    "'Entre 41 e 50 anos',\n",
    "'Entre 51 e 60 anos',\n",
    "'Entre 61 e 70 anos']\n",
    "# Contando o número de ocorrências em cada intervalo de idade\n",
    "contagem_idade = df1['idade'].value_counts().reindex(intervalos_idade)\n",
    "\n",
    "# Plotando o gráfico de barras\n",
    "contagem_idade.plot(kind='bar')\n",
    "plt.xlabel('Faixa Etária')\n",
    "plt.ylabel('Número de Pessoas')\n",
    "plt.title('Distribuição de Idade')\n",
    "plt.xticks(rotation=45, ha='right')  # Rotaciona os rótulos do eixo x para melhor legibilidade\n",
    "plt.show()"
   ]
  },
  {
   "cell_type": "code",
   "execution_count": 80,
   "metadata": {},
   "outputs": [
    {
     "name": "stdout",
     "output_type": "stream",
     "text": [
      "Masculino: 71.63%\n",
      "Feminino: 27.65%\n",
      "Prefiro não responder: 0.57%\n",
      "Outro. Qual?: 0.14%\n",
      "\n",
      "genero\n",
      "Masculino                1500\n",
      "Feminino                  579\n",
      "Prefiro não responder      12\n",
      "Outro. Qual?                3\n",
      "Name: count, dtype: int64\n"
     ]
    }
   ],
   "source": [
    "# renomear para usar minúscula\n",
    "df1.rename(columns={'Gênero': 'genero'}, inplace=True)\n",
    "# verificar valores para declaração de gênero\n",
    "verificar_porcentagens('genero')\n",
    "print()\n",
    "print(df1.genero.value_counts())"
   ]
  },
  {
   "cell_type": "markdown",
   "metadata": {},
   "source": [
    "Ao final de 2023, nosso quadro de empregados era composto por 11.170 pessoas divididas nas categorias operacional, técnica, universitária e gerencial, levando‐se em conta o grau de escolaridade, experiência profissional, complexidade das atribuições e qualificação técnica. <br>\n",
    "\n",
    "<span style=\"background-color: #6A5ACD\"> Nossa força de trabalho é formada por 8.983 **homens (80,4%)** e 2.187 **mulheres (19,6%)**.</span> <br>\n",
    "\n",
    "Os casos de outro e prefiro não responder não precisam ser considerados para análise"
   ]
  },
  {
   "cell_type": "code",
   "execution_count": 81,
   "metadata": {},
   "outputs": [
    {
     "name": "stdout",
     "output_type": "stream",
     "text": [
      "Técnico/administrativo: 39.59%\n",
      "Universitário: 22.59%\n",
      "Operacional: 20.58%\n",
      "Gestão/liderança: 15.57%\n",
      "Aprendiz: 1.67%\n"
     ]
    },
    {
     "data": {
      "text/plain": [
       "cargo\n",
       "Técnico/administrativo    829\n",
       "Universitário             473\n",
       "Operacional               431\n",
       "Gestão/liderança          326\n",
       "Aprendiz                   35\n",
       "Name: count, dtype: int64"
      ]
     },
     "execution_count": 81,
     "metadata": {},
     "output_type": "execute_result"
    }
   ],
   "source": [
    "# renomear para usar minúscula\n",
    "df1.rename(columns={'Categoria do cargo': 'cargo'}, inplace=True)\n",
    "# verificar valores para o tipo de cargo\n",
    "verificar_porcentagens('cargo')\n",
    "df1.cargo.value_counts()"
   ]
  },
  {
   "cell_type": "code",
   "execution_count": 52,
   "metadata": {},
   "outputs": [
    {
     "data": {
      "image/png": "[encoded data removed]",
      "text/plain": [
       "<Figure size 640x480 with 1 Axes>"
      ]
     },
     "metadata": {},
     "output_type": "display_data"
    }
   ],
   "source": [
    "# plotar gráfico de tipo de cargo\n",
    "# Definindo os intervalos de cargos\n",
    "intervalos_cargos = ['Aprendiz', 'Operacional',\n",
    "'Universitário',\n",
    "'Técnico/administrativo',\n",
    "'Gestão/liderança']\n",
    "# Contando o número de ocorrências em cada intervalo de idade\n",
    "contagem_cargos = df1['cargo'].value_counts().reindex(intervalos_cargos)\n",
    "\n",
    "# Plotando o gráfico de barras\n",
    "contagem_cargos.plot(kind='bar')\n",
    "plt.xlabel('Tipos de cargos')\n",
    "plt.ylabel('Número de Pessoas')\n",
    "plt.title('Distribuição por perfil')\n",
    "plt.xticks(rotation=45, ha='right')  # Rotaciona os rótulos do eixo x para melhor legibilidade\n",
    "plt.show()"
   ]
  },
  {
   "cell_type": "code",
   "execution_count": 82,
   "metadata": {},
   "outputs": [
    {
     "name": "stdout",
     "output_type": "stream",
     "text": [
      "o: 71.97%\n",
      "e: 7.88%\n",
      "f: 6.73%\n",
      "c: 6.02%\n",
      "p: 3.53%\n",
      "k: 3.30%\n",
      "n: 0.57%\n"
     ]
    }
   ],
   "source": [
    "verificar_porcentagens('diretoria')"
   ]
  },
  {
   "cell_type": "code",
   "execution_count": 53,
   "metadata": {},
   "outputs": [
    {
     "data": {
      "image/png": "[encoded data removed]",
      "text/plain": [
       "<Figure size 640x480 with 1 Axes>"
      ]
     },
     "metadata": {},
     "output_type": "display_data"
    }
   ],
   "source": [
    "# plotar gráfico de diretorias\n",
    "# Contando o número de ocorrências em cada intervalo\n",
    "contagem_diretoria = df1['diretoria'].value_counts()\n",
    "contagem_diretoria.index = contagem_diretoria.index.str.upper()\n",
    "\n",
    "# Plotando o gráfico de barras\n",
    "contagem_diretoria.plot(kind='bar')\n",
    "plt.xlabel('diretorias')\n",
    "plt.ylabel('Número de Pessoas')\n",
    "plt.title('Distribuição por diretoria')\n",
    "plt.xticks(rotation=45, ha='right')  # Rotaciona os rótulos do eixo x para melhor legibilidade\n",
    "\n",
    "# Adicionando um quadro com as diretorias e a contagem de cada uma\n",
    "for i, (diretoria, contagem) in enumerate(contagem_diretoria.items()):\n",
    "    plt.text(i, contagem, f'{diretoria}: {contagem}', ha='center', va='bottom')\n",
    "\n",
    "plt.tight_layout()  # Ajusta o layout para evitar sobreposição de texto\n",
    "plt.show()"
   ]
  },
  {
   "cell_type": "markdown",
   "metadata": {},
   "source": [
    "### Análise Descritiva "
   ]
  },
  {
   "cell_type": "code",
   "execution_count": 118,
   "metadata": {},
   "outputs": [
    {
     "name": "stdout",
     "output_type": "stream",
     "text": [
      "0 idade\n",
      "1 genero\n",
      "2 cargo\n",
      "3 Sigla da sua unidade\n",
      "4 comunicado_sabesp\n",
      "5 email_matinal\n",
      "6 pagina_un\n",
      "7 portal\n",
      "8 tv_corporativa\n",
      "9 workplace\n",
      "10 Você utiliza o Portal Corporativo?\n",
      "11 Qual é o principal motivo que o faz utilizar o Portal Corporativo?\n",
      "12 Você utiliza a página da sua Unidade no Portal Corporativo?\n",
      "13 Tenho acesso aos sistemas do meu departamento\n",
      "14 Vejo notícias específicas da minha área\n",
      "15 Tenho um repositório de documentos ordenados como relatórios, atas, tabelas.\n",
      "16 Tem informações da minha área que são úteis não só para mim como para todos da cia\n",
      "17 Outro (especifique)\n",
      "18 Você utiliza o Workplace?\n",
      "19 Mais incentivo da chefia\n",
      "20 Conhecer melhor a ferramenta e entender o potencial do Workplace\n",
      "21 Não tenho interesse em utilizar a ferramenta\n",
      "22 Poderia incluir banco de dados, links e sistemas de uso da minha área\n",
      "23 Poderia incluir links/acessos e sistemas de uso geral como Biblioteca, UES, Reembolso, Hollerith\n",
      "24 Minha chefia utilizar a ferramenta\n",
      "25 Ter acesso a ferramentas de reunião, gestão do conhecimento ou compartilhamento de arquivos\n",
      "26 Ter informação organizada de acordo com a estrutura corporativa, como no portal\n",
      "27 Se mais colegas usassem\n",
      "28 Pensando no seu líder imediato, avalie seu grau de satisfação em relação ao repasse das informações de caráter interno (informações corporativas, RH, institucionais, projetos e programas etc.)\n",
      "29 nivel_satisfacao\n",
      "30 Comente sua resposta\n",
      "31 Como você avalia a quantidade de informação disponibilizada nos veículos de Comunicação Interna (Conexão Sabesp no Workplace, Portal Corporativo, TV Corporativa, Comunicados Sabesp)?\n",
      "32 Outro (especifique).1\n",
      "33 Você tem alguma sugestão específica para melhorar a comunicação interna nos próximos meses?\n",
      "34 superintendencia\n",
      "35 diretoria\n"
     ]
    }
   ],
   "source": [
    "for i, c in enumerate(df1.columns):\n",
    "    print(i, c)"
   ]
  },
  {
   "cell_type": "code",
   "execution_count": 98,
   "metadata": {},
   "outputs": [],
   "source": [
    "# renomear colunas para facilitar manipulação\n",
    "df1.rename(columns={'Comunicado Sabesp': 'comunicado_sabesp'}, inplace=True)\n",
    "df1.rename(columns={'Email matinal com as principais informações divulgadas no dia anterior no Workplace': 'email_matinal'}, inplace=True)\n",
    "df1.rename(columns={'Página da Unidade no Portal Sabesp': 'pagina_un'}, inplace=True)\n",
    "df1.rename(columns={'Portal Corporativo Sabesp': 'portal'}, inplace=True)\n",
    "df1.rename(columns={'TV Corporativa': 'tv_corporativa'}, inplace=True)\n",
    "df1.rename(columns={'Workplace': 'workplace'}, inplace=True)\n",
    "df1.rename(columns={'De forma geral, qual é o seu nível de satisfação com a Comunicação Interna Sabesp em uma escala de 1 a 5, onde 1 é muito insatisfeito e 5 é muito satisfeito.': 'nivel_satisfacao'}, inplace=True)"
   ]
  },
  {
   "cell_type": "code",
   "execution_count": 121,
   "metadata": {},
   "outputs": [],
   "source": [
    "# criar um data frame exclusivo para colunas numéricas\n",
    "indices_colunas1 = [4, 5, 6, 7, 8, 9] # colunas numéricas informadas pelo índice\n",
    "indices_colunas2 = [4, 5, 6, 7, 8, 9, 29]\n",
    "# Criar um novo DataFrame selecionando as colunas pelo índice\n",
    "df_num1 = df1.iloc[:, indices_colunas1]\n",
    "df_num2 = df1.iloc[:, indices_colunas2]"
   ]
  },
  {
   "cell_type": "code",
   "execution_count": 122,
   "metadata": {},
   "outputs": [
    {
     "data": {
      "text/html": [
       "<div>\n",
       "<style scoped>\n",
       "    .dataframe tbody tr th:only-of-type {\n",
       "        vertical-align: middle;\n",
       "    }\n",
       "\n",
       "    .dataframe tbody tr th {\n",
       "        vertical-align: top;\n",
       "    }\n",
       "\n",
       "    .dataframe thead th {\n",
       "        text-align: right;\n",
       "    }\n",
       "</style>\n",
       "<table border=\"1\" class=\"dataframe\">\n",
       "  <thead>\n",
       "    <tr style=\"text-align: right;\">\n",
       "      <th></th>\n",
       "      <th>comunicado_sabesp</th>\n",
       "      <th>email_matinal</th>\n",
       "      <th>pagina_un</th>\n",
       "      <th>portal</th>\n",
       "      <th>tv_corporativa</th>\n",
       "      <th>workplace</th>\n",
       "      <th>nivel_satisfacao</th>\n",
       "    </tr>\n",
       "  </thead>\n",
       "  <tbody>\n",
       "    <tr>\n",
       "      <th>count</th>\n",
       "      <td>2094.000000</td>\n",
       "      <td>2094.000000</td>\n",
       "      <td>2094.000000</td>\n",
       "      <td>2094.000000</td>\n",
       "      <td>2094.000000</td>\n",
       "      <td>2094.000000</td>\n",
       "      <td>2094.000000</td>\n",
       "    </tr>\n",
       "    <tr>\n",
       "      <th>mean</th>\n",
       "      <td>3.787966</td>\n",
       "      <td>3.775549</td>\n",
       "      <td>3.348138</td>\n",
       "      <td>3.719198</td>\n",
       "      <td>2.696753</td>\n",
       "      <td>3.672397</td>\n",
       "      <td>3.697230</td>\n",
       "    </tr>\n",
       "    <tr>\n",
       "      <th>std</th>\n",
       "      <td>1.647343</td>\n",
       "      <td>1.775034</td>\n",
       "      <td>1.409342</td>\n",
       "      <td>1.393262</td>\n",
       "      <td>2.117255</td>\n",
       "      <td>1.541164</td>\n",
       "      <td>0.967717</td>\n",
       "    </tr>\n",
       "    <tr>\n",
       "      <th>min</th>\n",
       "      <td>1.000000</td>\n",
       "      <td>1.000000</td>\n",
       "      <td>1.000000</td>\n",
       "      <td>1.000000</td>\n",
       "      <td>1.000000</td>\n",
       "      <td>1.000000</td>\n",
       "      <td>1.000000</td>\n",
       "    </tr>\n",
       "    <tr>\n",
       "      <th>25%</th>\n",
       "      <td>2.000000</td>\n",
       "      <td>2.000000</td>\n",
       "      <td>2.000000</td>\n",
       "      <td>3.000000</td>\n",
       "      <td>1.000000</td>\n",
       "      <td>2.000000</td>\n",
       "      <td>3.000000</td>\n",
       "    </tr>\n",
       "    <tr>\n",
       "      <th>50%</th>\n",
       "      <td>4.000000</td>\n",
       "      <td>4.000000</td>\n",
       "      <td>3.000000</td>\n",
       "      <td>4.000000</td>\n",
       "      <td>1.000000</td>\n",
       "      <td>4.000000</td>\n",
       "      <td>4.000000</td>\n",
       "    </tr>\n",
       "    <tr>\n",
       "      <th>75%</th>\n",
       "      <td>5.000000</td>\n",
       "      <td>5.000000</td>\n",
       "      <td>5.000000</td>\n",
       "      <td>5.000000</td>\n",
       "      <td>5.000000</td>\n",
       "      <td>5.000000</td>\n",
       "      <td>4.000000</td>\n",
       "    </tr>\n",
       "    <tr>\n",
       "      <th>max</th>\n",
       "      <td>6.000000</td>\n",
       "      <td>6.000000</td>\n",
       "      <td>6.000000</td>\n",
       "      <td>6.000000</td>\n",
       "      <td>6.000000</td>\n",
       "      <td>6.000000</td>\n",
       "      <td>5.000000</td>\n",
       "    </tr>\n",
       "  </tbody>\n",
       "</table>\n",
       "</div>"
      ],
      "text/plain": [
       "       comunicado_sabesp  email_matinal    pagina_un       portal  \\\n",
       "count        2094.000000    2094.000000  2094.000000  2094.000000   \n",
       "mean            3.787966       3.775549     3.348138     3.719198   \n",
       "std             1.647343       1.775034     1.409342     1.393262   \n",
       "min             1.000000       1.000000     1.000000     1.000000   \n",
       "25%             2.000000       2.000000     2.000000     3.000000   \n",
       "50%             4.000000       4.000000     3.000000     4.000000   \n",
       "75%             5.000000       5.000000     5.000000     5.000000   \n",
       "max             6.000000       6.000000     6.000000     6.000000   \n",
       "\n",
       "       tv_corporativa    workplace  nivel_satisfacao  \n",
       "count     2094.000000  2094.000000       2094.000000  \n",
       "mean         2.696753     3.672397          3.697230  \n",
       "std          2.117255     1.541164          0.967717  \n",
       "min          1.000000     1.000000          1.000000  \n",
       "25%          1.000000     2.000000          3.000000  \n",
       "50%          1.000000     4.000000          4.000000  \n",
       "75%          5.000000     5.000000          4.000000  \n",
       "max          6.000000     6.000000          5.000000  "
      ]
     },
     "execution_count": 122,
     "metadata": {},
     "output_type": "execute_result"
    }
   ],
   "source": [
    "df_num2.describe()"
   ]
  },
  {
   "cell_type": "code",
   "execution_count": 123,
   "metadata": {},
   "outputs": [
    {
     "data": {
      "text/html": [
       "<div>\n",
       "<style scoped>\n",
       "    .dataframe tbody tr th:only-of-type {\n",
       "        vertical-align: middle;\n",
       "    }\n",
       "\n",
       "    .dataframe tbody tr th {\n",
       "        vertical-align: top;\n",
       "    }\n",
       "\n",
       "    .dataframe thead th {\n",
       "        text-align: right;\n",
       "    }\n",
       "</style>\n",
       "<table border=\"1\" class=\"dataframe\">\n",
       "  <thead>\n",
       "    <tr style=\"text-align: right;\">\n",
       "      <th></th>\n",
       "      <th>Média</th>\n",
       "    </tr>\n",
       "  </thead>\n",
       "  <tbody>\n",
       "    <tr>\n",
       "      <th>comunicado_sabesp</th>\n",
       "      <td>3.787966</td>\n",
       "    </tr>\n",
       "    <tr>\n",
       "      <th>email_matinal</th>\n",
       "      <td>3.775549</td>\n",
       "    </tr>\n",
       "    <tr>\n",
       "      <th>portal</th>\n",
       "      <td>3.719198</td>\n",
       "    </tr>\n",
       "    <tr>\n",
       "      <th>workplace</th>\n",
       "      <td>3.672397</td>\n",
       "    </tr>\n",
       "    <tr>\n",
       "      <th>pagina_un</th>\n",
       "      <td>3.348138</td>\n",
       "    </tr>\n",
       "    <tr>\n",
       "      <th>tv_corporativa</th>\n",
       "      <td>2.696753</td>\n",
       "    </tr>\n",
       "  </tbody>\n",
       "</table>\n",
       "</div>"
      ],
      "text/plain": [
       "                      Média\n",
       "comunicado_sabesp  3.787966\n",
       "email_matinal      3.775549\n",
       "portal             3.719198\n",
       "workplace          3.672397\n",
       "pagina_un          3.348138\n",
       "tv_corporativa     2.696753"
      ]
     },
     "execution_count": 123,
     "metadata": {},
     "output_type": "execute_result"
    }
   ],
   "source": [
    "# exibição de média de preferência dos produtos (em ordem crescente)\n",
    "df_num1.mean().sort_values(ascending=False).to_frame(name='Média')"
   ]
  },
  {
   "cell_type": "markdown",
   "metadata": {},
   "source": [
    "Apenas em comparação, a pesquisa anterior apontou: <br>\n",
    "\n",
    "Comunicado Sabesp\t5.017337<br>\n",
    "E-mail matinal Workplace\t4.973375<br>\n",
    "<mark>Workplace\t4.570898<br>\n",
    "Portal Corporativo Sabesp\t4.497214<br></mark>\n",
    "Página da Unidade no Portal Sabesp\t3.981424<br>\n",
    "Jornal Mural\t3.402477<br>\n",
    "TV Corporativa\t3.022291<br>\n",
    "\n",
    "\n",
    "\n"
   ]
  },
  {
   "cell_type": "code",
   "execution_count": 124,
   "metadata": {},
   "outputs": [
    {
     "data": {
      "image/png": "[encoded data removed]",
      "text/plain": [
       "<Figure size 640x480 with 1 Axes>"
      ]
     },
     "metadata": {},
     "output_type": "display_data"
    }
   ],
   "source": [
    "# Transformar os valores em um DataFrame para plotagem\n",
    "df_mean = df_num1.mean().sort_values().to_frame(name='Média')\n",
    "\n",
    "# Plotar um gráfico de barras\n",
    "ax = df_mean.plot(kind='bar')\n",
    "ax.set_ylabel('Média')\n",
    "ax.set_title('Média dos Valores por produto')\n",
    "ax.legend().remove()  # Para remover a legenda, se preferir\n",
    "# modificar rótulos do eixo x para diagonal\n",
    "plt.xticks(rotation=45, ha='right')\n",
    "\n",
    "# Adicionar os rótulos de média dentro das barras\n",
    "for i, v in enumerate(df_mean['Média']):\n",
    "    ax.text(i, v, f'{v:.2f}', ha='center', va='bottom', fontweight='light')\n",
    "\n",
    "\n",
    "# Mostrar o gráfico\n",
    "plt.show()"
   ]
  },
  {
   "cell_type": "markdown",
   "metadata": {},
   "source": [
    "#### Série de análise por diretoria"
   ]
  },
  {
   "cell_type": "code",
   "execution_count": 128,
   "metadata": {},
   "outputs": [],
   "source": [
    "# incluir diretoria nos dataframes que serão utilizados\n",
    "indices_colunas1 = [4, 5, 6, 7, 8, 9, 35] # colunas numéricas informadas pelo índice\n",
    "indices_colunas2 = [4, 5, 6, 7, 8, 9, 29, 35] # colunas numéricas informadas pelo índice\n",
    "# Criar um novo DataFrame selecionando as colunas pelo índice\n",
    "df_num1 = df1.iloc[:, indices_colunas1]\n",
    "df_num2 = df1.iloc[:, indices_colunas2]"
   ]
  },
  {
   "cell_type": "code",
   "execution_count": 134,
   "metadata": {},
   "outputs": [],
   "source": [
    "\n",
    "# FUNÇÃO PARA GERAÇÃO DE GRÁFICOS DE DIRETORIA\n",
    "\n",
    "def plot_boxplot(data, y_var, subtitle):\n",
    "\n",
    "    \"\"\"\n",
    "    Gera um gráfico boxplot para uma variável especificada por diretoria e adiciona uma linha vermelha com a média.\n",
    "\n",
    "    Parâmetros:\n",
    "    data (DataFrame): DataFrame contendo os dados.\n",
    "    y_var (str): Nome da coluna que será utilizada para o eixo y no boxplot.\n",
    "    subtitle (str): Texto a ser exibido como subtítulo no gráfico.\"\"\"\n",
    "\n",
    "    \n",
    "    # Definir a ordem de avaliação\n",
    "    ordem_diretoria = ['O', 'C', 'E', 'F', 'P', 'K', 'N']\n",
    "    \n",
    "    # Gráfico boxplot para a variável especificada por diretoria\n",
    "    comunicado = sns.catplot(x=\"diretoria\", y=y_var,\n",
    "                             data=data, kind=\"box\",               \n",
    "                             height=4.8, aspect=0.9)\n",
    "    \n",
    "    # Definição de ordem para o eixo x\n",
    "    for ax in comunicado.axes.flat:\n",
    "        ax.set_xticks(range(len(ordem_diretoria)))\n",
    "        ax.set_xticklabels(ordem_diretoria)\n",
    "    \n",
    "    # Calcular a média da variável especificada\n",
    "    media_y_var = data[y_var].mean()\n",
    "    \n",
    "    # Adicionar linha vermelha representando a média\n",
    "    for ax in comunicado.axes.flat:\n",
    "        ax.axhline(media_y_var, color='red', linestyle='--', linewidth=2, label=f'Média = {media_y_var:.2f}')\n",
    "        ax.legend()\n",
    "    \n",
    "    # Adicionar título geral e subtítulo\n",
    "    plt.figtext(0.05, 1.15, 'Canal Interno por Diretoria', fontsize=14, fontweight='bold', ha='left')\n",
    "    plt.figtext(0.05, 1.10, subtitle, fontsize=12, fontweight='bold', color='gray', ha='left')\n",
    "    \n",
    "    plt.show()"
   ]
  },
  {
   "cell_type": "code",
   "execution_count": 133,
   "metadata": {},
   "outputs": [
    {
     "data": {
      "image/png": "[encoded data removed]",
      "text/plain": [
       "<Figure size 432x480 with 1 Axes>"
      ]
     },
     "metadata": {},
     "output_type": "display_data"
    }
   ],
   "source": [
    "plot_boxplot(df_num1, \"email_matinal\", \"E-mail Matinal\")"
   ]
  },
  {
   "cell_type": "code",
   "execution_count": 135,
   "metadata": {},
   "outputs": [
    {
     "data": {
      "image/png": "[encoded data removed]",
      "text/plain": [
       "<Figure size 432x480 with 1 Axes>"
      ]
     },
     "metadata": {},
     "output_type": "display_data"
    }
   ],
   "source": [
    "plot_boxplot(df_num1, \"comunicado_sabesp\", \"Comunicado matinal Sabesp\")"
   ]
  },
  {
   "cell_type": "code",
   "execution_count": 136,
   "metadata": {},
   "outputs": [
    {
     "data": {
      "image/png": "[encoded data removed]",
      "text/plain": [
       "<Figure size 432x480 with 1 Axes>"
      ]
     },
     "metadata": {},
     "output_type": "display_data"
    }
   ],
   "source": [
    "plot_boxplot(df_num1, \"portal\", \"Portal Corporativo\")"
   ]
  },
  {
   "cell_type": "code",
   "execution_count": 137,
   "metadata": {},
   "outputs": [
    {
     "data": {
      "image/png": "[encoded data removed]",
      "text/plain": [
       "<Figure size 432x480 with 1 Axes>"
      ]
     },
     "metadata": {},
     "output_type": "display_data"
    }
   ],
   "source": [
    "plot_boxplot(df_num1, \"workplace\", \"Workplace\")"
   ]
  },
  {
   "cell_type": "code",
   "execution_count": 138,
   "metadata": {},
   "outputs": [
    {
     "data": {
      "image/png": "[encoded data removed]",
      "text/plain": [
       "<Figure size 432x480 with 1 Axes>"
      ]
     },
     "metadata": {},
     "output_type": "display_data"
    }
   ],
   "source": [
    "plot_boxplot(df_num1, \"pagina_un\", \"Página da UN no portal\")"
   ]
  },
  {
   "cell_type": "code",
   "execution_count": 139,
   "metadata": {},
   "outputs": [
    {
     "data": {
      "image/png": "[encoded data removed]",
      "text/plain": [
       "<Figure size 432x480 with 1 Axes>"
      ]
     },
     "metadata": {},
     "output_type": "display_data"
    }
   ],
   "source": [
    "plot_boxplot(df_num1, \"tv_corporativa\", \"TV Corporativa\")"
   ]
  },
  {
   "cell_type": "code",
   "execution_count": 160,
   "metadata": {},
   "outputs": [
    {
     "data": {
      "image/png": "[encoded data removed]",
      "text/plain": [
       "<Figure size 1000x600 with 1 Axes>"
      ]
     },
     "metadata": {},
     "output_type": "display_data"
    }
   ],
   "source": [
    "# Satisfação geral\n",
    "# Gráfico de distribuição das notas por diretoria\n",
    "\n",
    "# Criar o gráfico de violino\n",
    "plt.figure(figsize=(10, 6))\n",
    "sns.violinplot(x=\"diretoria\", y=\"nivel_satisfacao\", data=df_num2)\n",
    "\n",
    "# Adicionar título e rótulos dos eixos\n",
    "plt.title(\"Distribuição das Notas de Satisfação por Diretoria\")\n",
    "plt.xlabel(\"Diretoria\")\n",
    "plt.ylabel(\"Nível de Satisfação\")\n",
    "\n",
    "# Exibir o gráfico\n",
    "plt.show()"
   ]
  },
  {
   "cell_type": "code",
   "execution_count": 169,
   "metadata": {},
   "outputs": [
    {
     "data": {
      "text/plain": [
       "nivel_satisfacao\n",
       "4    923\n",
       "3    556\n",
       "5    408\n",
       "2    135\n",
       "1     72\n",
       "Name: count, dtype: int64"
      ]
     },
     "execution_count": 169,
     "metadata": {},
     "output_type": "execute_result"
    }
   ],
   "source": [
    "df_num2.nivel_satisfacao.value_counts()"
   ]
  },
  {
   "cell_type": "code",
   "execution_count": 167,
   "metadata": {},
   "outputs": [
    {
     "data": {
      "image/png": "[encoded data removed]",
      "text/plain": [
       "<Figure size 1000x600 with 1 Axes>"
      ]
     },
     "metadata": {},
     "output_type": "display_data"
    }
   ],
   "source": [
    "# Contagem dos valores únicos na coluna \"nivel_satisfacao\"\n",
    "contagem_nivel_satisfacao = df_num2[\"nivel_satisfacao\"].value_counts()\n",
    "\n",
    "# Criar o gráfico de barras\n",
    "plt.figure(figsize=(10, 6))\n",
    "bars = plt.bar(contagem_nivel_satisfacao.index, contagem_nivel_satisfacao.values)\n",
    "\n",
    "# Adicionar a contagem dentro de cada barra\n",
    "for bar in bars:\n",
    "    height = bar.get_height()\n",
    "    plt.text(bar.get_x() + bar.get_width()/2, height, str(int(height)),\n",
    "             ha='center', va='bottom', fontsize=10)\n",
    "\n",
    "# Adicionar título e rótulos dos eixos\n",
    "plt.title(\"Contagem das Notas de Satisfação\")\n",
    "plt.xlabel(\"Nota de Satisfação\")\n",
    "plt.ylabel(\"Contagem\")\n",
    "\n",
    "# Exibir o gráfico\n",
    "plt.show()"
   ]
  }
 ],
 "metadata": {
  "kernelspec": {
   "display_name": "base",
   "language": "python",
   "name": "python3"
  },
  "language_info": {
   "codemirror_mode": {
    "name": "ipython",
    "version": 3
   },
   "file_extension": ".py",
   "mimetype": "text/x-python",
   "name": "python",
   "nbconvert_exporter": "python",
   "pygments_lexer": "ipython3",
   "version": "3.11.4"
  }
 },
 "nbformat": 4,
 "nbformat_minor": 2
}
